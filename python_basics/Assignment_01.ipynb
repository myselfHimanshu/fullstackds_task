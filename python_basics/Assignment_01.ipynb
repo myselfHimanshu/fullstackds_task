{
 "cells": [
  {
   "cell_type": "markdown",
   "id": "09e281d6",
   "metadata": {},
   "source": [
    "# Assignment #001\n",
    "\n",
    "**Below are the problem sets for Python Basics.**"
   ]
  },
  {
   "cell_type": "markdown",
   "id": "52bfeaac",
   "metadata": {},
   "source": [
    "## Question 1\n",
    "\n",
    "In the below elements which of them are values or an expression? \n",
    "\n",
    "eg:- \n",
    "- values can be integer or string and \n",
    "- expressions will be mathematical operators.\n",
    "\n",
    "```\n",
    "*\n",
    "'hello'\n",
    "-87.8\n",
    "-\n",
    "/\n",
    "+\n",
    "6\n",
    "```\n",
    "\n",
    "#### Solution\n",
    "\n",
    "|element|value/expression|\n",
    "|--|--|\n",
    "|* | expression |\n",
    "|'hello' | value |\n",
    "|-87.8 | value |\n",
    "|-  | expression |\n",
    "|/ | expression |\n",
    "| + | expression |\n",
    "|6| value |"
   ]
  },
  {
   "cell_type": "markdown",
   "id": "24429902",
   "metadata": {},
   "source": [
    "## Question 2\n",
    "\n",
    "What is the difference between string and variable?\n",
    "\n",
    "#### Solution\n",
    "\n",
    "- String: \n",
    "  - A string is a collection of characters enclosed within single `'` or `\"` quotation marks.\n",
    "  - String is of Sequence data type.\n",
    "- Variable:\n",
    "  - A variable is a name to which any value can be assigned.\n",
    "  - A variable can be of type integer or string or boolean etc."
   ]
  },
  {
   "cell_type": "code",
   "execution_count": 4,
   "id": "fedc1c6f",
   "metadata": {},
   "outputs": [
    {
     "name": "stdout",
     "output_type": "stream",
     "text": [
      "<class 'str'>\n"
     ]
    }
   ],
   "source": [
    "# initializing a string\n",
    "\n",
    "my_name = \"Himanshu\"\n",
    "print(type(my_name))"
   ]
  },
  {
   "cell_type": "code",
   "execution_count": 5,
   "id": "e786f6ed",
   "metadata": {},
   "outputs": [
    {
     "name": "stdout",
     "output_type": "stream",
     "text": [
      "<class 'str'> <class 'int'>\n"
     ]
    }
   ],
   "source": [
    "# initializing a string type variable\n",
    "my_name = \"Himanshu\"\n",
    "\n",
    "# initializing a integer type variable\n",
    "my_age = 26\n",
    "\n",
    "print(type(my_name), type(my_age))\n"
   ]
  },
  {
   "cell_type": "markdown",
   "id": "2af12bfc",
   "metadata": {},
   "source": [
    "## Question 3\n",
    "\n",
    "Describe three different data types.\n",
    "\n",
    "#### Solution\n",
    "\n",
    "- Numeric Data types\n",
    "  - represents the data that has a numeric value.\n",
    "  - main numeric data types are,\n",
    "    - Integers\n",
    "    - Floating-point\n",
    "    - Complex Numbers\n",
    "- Boolean Data type\n",
    "  - Boolean data type have two values either `True` or `False`.\n",
    "  - Used to determine whether logic of a comparison is correct.\n",
    "- Sequence Data type\n",
    "  - Sequence data type are collection of similar or different data types values."
   ]
  },
  {
   "cell_type": "code",
   "execution_count": 6,
   "id": "2c994924",
   "metadata": {},
   "outputs": [
    {
     "name": "stdout",
     "output_type": "stream",
     "text": [
      "55\n",
      "-12.231\n",
      "(2+2j)\n"
     ]
    }
   ],
   "source": [
    "# Numeric Data types examples\n",
    "\n",
    "print(55)       # integer type\n",
    "print(-12.231)  # floating point number\n",
    "print(complex(2, 2))    # represents (2+2j), complex number"
   ]
  },
  {
   "cell_type": "code",
   "execution_count": 7,
   "id": "899529ff",
   "metadata": {},
   "outputs": [
    {
     "name": "stdout",
     "output_type": "stream",
     "text": [
      "True\n",
      "False\n"
     ]
    }
   ],
   "source": [
    "# Boolean Data types example\n",
    "\n",
    "print(10>9)     # results `True`\n",
    "print(99<11)    # results `False`\n"
   ]
  },
  {
   "cell_type": "code",
   "execution_count": 8,
   "id": "46c73e93",
   "metadata": {},
   "outputs": [
    {
     "name": "stdout",
     "output_type": "stream",
     "text": [
      "Winter Soldier!\n"
     ]
    }
   ],
   "source": [
    "# Sequence Data types example\n",
    "\n",
    "print(\"Winter Soldier!\") # string data type"
   ]
  },
  {
   "cell_type": "markdown",
   "id": "d93d9cec",
   "metadata": {},
   "source": [
    "## Question 4\n",
    "\n",
    "What is an expression made up of? What do all expressions do?\n",
    "\n",
    "#### Solution\n",
    "\n",
    "Expression is a combination of values, variables, operators or function calls. Expression is something that needs to be evaluated by the interpreter that produces a value."
   ]
  },
  {
   "cell_type": "code",
   "execution_count": 9,
   "id": "ce1c0991",
   "metadata": {},
   "outputs": [],
   "source": [
    "# statement\n",
    "pi = 3.14"
   ]
  },
  {
   "cell_type": "code",
   "execution_count": 10,
   "id": "6436a2bc",
   "metadata": {},
   "outputs": [
    {
     "data": {
      "text/plain": [
       "6.28"
      ]
     },
     "execution_count": 10,
     "metadata": {},
     "output_type": "execute_result"
    }
   ],
   "source": [
    "# expression\n",
    "pi*2"
   ]
  },
  {
   "cell_type": "markdown",
   "id": "589454d6",
   "metadata": {},
   "source": [
    "## Question 5\n",
    "\n",
    "This assignment statements, like spam = 10. What is the difference between an expression and a statement?\n",
    "\n",
    "#### Solution\n",
    "\n",
    "A statement does not yields any value.\n"
   ]
  },
  {
   "cell_type": "code",
   "execution_count": 11,
   "id": "2d671d74",
   "metadata": {},
   "outputs": [
    {
     "data": {
      "text/plain": [
       "4"
      ]
     },
     "execution_count": 11,
     "metadata": {},
     "output_type": "execute_result"
    }
   ],
   "source": [
    "# this is expression as it will yield 4 as answer\n",
    "1+3"
   ]
  },
  {
   "cell_type": "code",
   "execution_count": 12,
   "id": "dd882508",
   "metadata": {},
   "outputs": [],
   "source": [
    "# a statement\n",
    "x = 3"
   ]
  },
  {
   "cell_type": "markdown",
   "id": "ea032303",
   "metadata": {},
   "source": [
    "## Question 6\n",
    "\n",
    "After running the following code, what does the variable bacon contain?\n",
    "\n",
    "```\n",
    "bacon = 22\n",
    "bacon + 1\n",
    "```\n",
    "\n",
    "#### Solution"
   ]
  },
  {
   "cell_type": "code",
   "execution_count": 13,
   "id": "951805dc",
   "metadata": {},
   "outputs": [
    {
     "data": {
      "text/plain": [
       "23"
      ]
     },
     "execution_count": 13,
     "metadata": {},
     "output_type": "execute_result"
    }
   ],
   "source": [
    "bacon = 22\n",
    "bacon + 1"
   ]
  },
  {
   "cell_type": "code",
   "execution_count": 15,
   "id": "cbf7e18f",
   "metadata": {},
   "outputs": [
    {
     "name": "stdout",
     "output_type": "stream",
     "text": [
      "22\n"
     ]
    }
   ],
   "source": [
    "print(bacon)"
   ]
  },
  {
   "cell_type": "markdown",
   "id": "b743d5a3",
   "metadata": {},
   "source": [
    "## Question 7 \n",
    "\n",
    "What should the values of the following two terms be?\n",
    "\n",
    "```python\n",
    "\"spam\" + \"spamspam\"\n",
    "\"spam\" * 3\n",
    "```\n",
    "\n",
    "#### Solution\n"
   ]
  },
  {
   "cell_type": "code",
   "execution_count": 16,
   "id": "a3f245d6",
   "metadata": {},
   "outputs": [
    {
     "data": {
      "text/plain": [
       "'spamspamspam'"
      ]
     },
     "execution_count": 16,
     "metadata": {},
     "output_type": "execute_result"
    }
   ],
   "source": [
    "\"spam\" + \"spamspam\""
   ]
  },
  {
   "cell_type": "code",
   "execution_count": 17,
   "id": "dee52bfb",
   "metadata": {},
   "outputs": [
    {
     "data": {
      "text/plain": [
       "'spamspamspam'"
      ]
     },
     "execution_count": 17,
     "metadata": {},
     "output_type": "execute_result"
    }
   ],
   "source": [
    "\"spam\" * 3"
   ]
  },
  {
   "cell_type": "markdown",
   "id": "8feb2186",
   "metadata": {},
   "source": [
    "## Question 8\n",
    "\n",
    "Why is `eggs` a valid variable name while `100` is invalid?\n",
    "\n",
    "#### Solution\n",
    "\n",
    "In python, there are some rules we need to follow when picking the name for a variable:\n",
    "\n",
    "- The first character must start with an UPPERCASE or LOWERCASE letter of alphabet or UNDERSCORE(_)\n",
    "- Rest of the name can consist of UPPERCASE or LOWERCASE letter of alphabet or UNDERSCORE(_) or DIGITS(0-9)\n",
    "- Spaces are not allowed. Instead, use snake_case to make variable names readable.\n",
    "- Names are case-sensitive. myworld and myWorld are not the same.\n",
    "- The name of the variable should be something meaningful that describes the value it holds, instead of being random characters.\n",
    "\n",
    "Therefore,\n",
    "\n",
    "`100` is invalid whereas `eggs` is a valid variable name."
   ]
  },
  {
   "cell_type": "code",
   "execution_count": 18,
   "id": "88c47b68",
   "metadata": {},
   "outputs": [
    {
     "ename": "SyntaxError",
     "evalue": "cannot assign to literal (<ipython-input-18-6adab59932b5>, line 1)",
     "output_type": "error",
     "traceback": [
      "\u001b[0;36m  File \u001b[0;32m\"<ipython-input-18-6adab59932b5>\"\u001b[0;36m, line \u001b[0;32m1\u001b[0m\n\u001b[0;31m    100 = \"num_100\"\u001b[0m\n\u001b[0m    ^\u001b[0m\n\u001b[0;31mSyntaxError\u001b[0m\u001b[0;31m:\u001b[0m cannot assign to literal\n"
     ]
    }
   ],
   "source": [
    "100 = \"num_100\""
   ]
  },
  {
   "cell_type": "code",
   "execution_count": 19,
   "id": "29acb2d2",
   "metadata": {},
   "outputs": [
    {
     "data": {
      "text/plain": [
       "10"
      ]
     },
     "execution_count": 19,
     "metadata": {},
     "output_type": "execute_result"
    }
   ],
   "source": [
    "eggs = 10\n",
    "eggs"
   ]
  },
  {
   "cell_type": "markdown",
   "id": "44aa0ba0",
   "metadata": {},
   "source": [
    "## Question 9\n",
    "\n",
    "What three functions can be used to get the integer, floating-point number, or string version of a value?\n",
    "\n",
    "#### Solution\n",
    "\n",
    "This method of conversion is know as Explicit Type Conversion."
   ]
  },
  {
   "cell_type": "code",
   "execution_count": 20,
   "id": "f9469f59",
   "metadata": {},
   "outputs": [
    {
     "name": "stdout",
     "output_type": "stream",
     "text": [
      "<class 'str'> <class 'int'>\n",
      "<class 'str'> <class 'float'>\n",
      "<class 'int'> <class 'str'>\n"
     ]
    }
   ],
   "source": [
    "# string to integer\n",
    "value = '23'    # string type\n",
    "int_form = int(value)   # we get an integer type\n",
    "print(type(value), type(int_form))\n",
    "\n",
    "# string to float\n",
    "value = '231.21'    # string type\n",
    "float_form = float(value) # we get float point number\n",
    "print(type(value), type(float_form))\n",
    "\n",
    "# integer to string\n",
    "value = 45  # integer type\n",
    "str_form = str(value)   # we get string data type\n",
    "print(type(value), type(str_form))"
   ]
  },
  {
   "cell_type": "code",
   "execution_count": 21,
   "id": "a705d362",
   "metadata": {},
   "outputs": [
    {
     "ename": "ValueError",
     "evalue": "invalid literal for int() with base 10: 'Hello'",
     "output_type": "error",
     "traceback": [
      "\u001b[0;31m---------------------------------------------------------------------------\u001b[0m",
      "\u001b[0;31mValueError\u001b[0m                                Traceback (most recent call last)",
      "\u001b[0;32m<ipython-input-21-ea6afd443156>\u001b[0m in \u001b[0;36m<module>\u001b[0;34m\u001b[0m\n\u001b[1;32m      1\u001b[0m \u001b[0mvalue\u001b[0m \u001b[0;34m=\u001b[0m \u001b[0;34m\"Hello\"\u001b[0m\u001b[0;34m\u001b[0m\u001b[0;34m\u001b[0m\u001b[0m\n\u001b[0;32m----> 2\u001b[0;31m \u001b[0mint_form\u001b[0m \u001b[0;34m=\u001b[0m \u001b[0mint\u001b[0m\u001b[0;34m(\u001b[0m\u001b[0mvalue\u001b[0m\u001b[0;34m)\u001b[0m   \u001b[0;31m# ERROR\u001b[0m\u001b[0;34m\u001b[0m\u001b[0;34m\u001b[0m\u001b[0m\n\u001b[0m",
      "\u001b[0;31mValueError\u001b[0m: invalid literal for int() with base 10: 'Hello'"
     ]
    }
   ],
   "source": [
    "value = \"Hello\"\n",
    "int_form = int(value)   # ERROR"
   ]
  },
  {
   "cell_type": "code",
   "execution_count": 22,
   "id": "469a2990",
   "metadata": {},
   "outputs": [
    {
     "ename": "ValueError",
     "evalue": "invalid literal for int() with base 10: '23.11'",
     "output_type": "error",
     "traceback": [
      "\u001b[0;31m---------------------------------------------------------------------------\u001b[0m",
      "\u001b[0;31mValueError\u001b[0m                                Traceback (most recent call last)",
      "\u001b[0;32m<ipython-input-22-8f151d70d344>\u001b[0m in \u001b[0;36m<module>\u001b[0;34m\u001b[0m\n\u001b[1;32m      1\u001b[0m \u001b[0mvalue\u001b[0m \u001b[0;34m=\u001b[0m \u001b[0;34m\"23.11\"\u001b[0m\u001b[0;34m\u001b[0m\u001b[0;34m\u001b[0m\u001b[0m\n\u001b[0;32m----> 2\u001b[0;31m \u001b[0mint_form\u001b[0m \u001b[0;34m=\u001b[0m \u001b[0mint\u001b[0m\u001b[0;34m(\u001b[0m\u001b[0mvalue\u001b[0m\u001b[0;34m)\u001b[0m   \u001b[0;31m# ERROR\u001b[0m\u001b[0;34m\u001b[0m\u001b[0;34m\u001b[0m\u001b[0m\n\u001b[0m",
      "\u001b[0;31mValueError\u001b[0m: invalid literal for int() with base 10: '23.11'"
     ]
    }
   ],
   "source": [
    "value = \"23.11\"\n",
    "int_form = int(value)   # ERROR"
   ]
  },
  {
   "cell_type": "code",
   "execution_count": 23,
   "id": "88fb3f25",
   "metadata": {},
   "outputs": [
    {
     "ename": "ValueError",
     "evalue": "invalid literal for int() with base 10: \"'21'\"",
     "output_type": "error",
     "traceback": [
      "\u001b[0;31m---------------------------------------------------------------------------\u001b[0m",
      "\u001b[0;31mValueError\u001b[0m                                Traceback (most recent call last)",
      "\u001b[0;32m<ipython-input-23-e16d4513eac3>\u001b[0m in \u001b[0;36m<module>\u001b[0;34m\u001b[0m\n\u001b[1;32m      1\u001b[0m \u001b[0mvalue\u001b[0m \u001b[0;34m=\u001b[0m \u001b[0;34m\"'21'\"\u001b[0m\u001b[0;34m\u001b[0m\u001b[0;34m\u001b[0m\u001b[0m\n\u001b[0;32m----> 2\u001b[0;31m \u001b[0mint_form\u001b[0m \u001b[0;34m=\u001b[0m \u001b[0mint\u001b[0m\u001b[0;34m(\u001b[0m\u001b[0mvalue\u001b[0m\u001b[0;34m)\u001b[0m   \u001b[0;31m# ERROR\u001b[0m\u001b[0;34m\u001b[0m\u001b[0;34m\u001b[0m\u001b[0m\n\u001b[0m",
      "\u001b[0;31mValueError\u001b[0m: invalid literal for int() with base 10: \"'21'\""
     ]
    }
   ],
   "source": [
    "value = \"'21'\"\n",
    "int_form = int(value)   # ERROR"
   ]
  },
  {
   "cell_type": "markdown",
   "id": "abaee78e",
   "metadata": {},
   "source": [
    "## Question 10\n",
    "\n",
    "Why does this expression cause an error? How can you fix it?\n",
    "\n",
    "```python\n",
    "'I have eaten ' + 99 + ' burritos.'\n",
    "```\n",
    "\n",
    "#### Solution\n",
    "\n",
    "We cannot add a string data type with an integer data type. We need to convert integer to string and then evaluate the expression."
   ]
  },
  {
   "cell_type": "code",
   "execution_count": 24,
   "id": "6f05bd81",
   "metadata": {},
   "outputs": [
    {
     "data": {
      "text/plain": [
       "'I have eaten 99 burritos.'"
      ]
     },
     "execution_count": 24,
     "metadata": {},
     "output_type": "execute_result"
    }
   ],
   "source": [
    "'I have eaten ' + str(99) + ' burritos.'"
   ]
  }
 ],
 "metadata": {
  "kernelspec": {
   "display_name": "Python 3",
   "language": "python",
   "name": "python3"
  },
  "language_info": {
   "codemirror_mode": {
    "name": "ipython",
    "version": 3
   },
   "file_extension": ".py",
   "mimetype": "text/x-python",
   "name": "python",
   "nbconvert_exporter": "python",
   "pygments_lexer": "ipython3",
   "version": "3.8.8"
  }
 },
 "nbformat": 4,
 "nbformat_minor": 5
}
