{
  "nbformat": 4,
  "nbformat_minor": 0,
  "metadata": {
    "orig_nbformat": 4,
    "language_info": {
      "name": "python",
      "version": "3.8.8",
      "mimetype": "text/x-python",
      "codemirror_mode": {
        "name": "ipython",
        "version": 3
      },
      "pygments_lexer": "ipython3",
      "nbconvert_exporter": "python",
      "file_extension": ".py"
    },
    "kernelspec": {
      "name": "python3",
      "display_name": "Python 3.8.8 64-bit ('base': conda)"
    },
    "interpreter": {
      "hash": "32004c3298a2e7fb08ce908835c9b26629c2a794a7626af23329d63295bbeafe"
    },
    "colab": {
      "name": "theory_06.ipynb",
      "provenance": [],
      "collapsed_sections": []
    }
  },
  "cells": [
    {
      "cell_type": "markdown",
      "metadata": {
        "id": "po5zPkqfvIXV"
      },
      "source": [
        "# Assignment #006\n",
        "\n",
        "Below are the problem sets for basics python."
      ]
    },
    {
      "cell_type": "code",
      "metadata": {
        "colab": {
          "base_uri": "https://localhost:8080/"
        },
        "id": "A5Em1XX5vQZr",
        "outputId": "f11c1a81-5ef1-4ea6-d85f-32e4e1b85555"
      },
      "source": [
        "# checking python version\n",
        "!python --version"
      ],
      "execution_count": 1,
      "outputs": [
        {
          "output_type": "stream",
          "name": "stdout",
          "text": [
            "Python 3.7.12\n"
          ]
        }
      ]
    },
    {
      "cell_type": "markdown",
      "source": [
        "## Question 01\n",
        "\n",
        "What are escape characters, and how do you use them?\n",
        "\n",
        "#### Solution\n",
        "\n",
        "An escape character is a backslash `\\` followed by the character you want to insert.\n",
        "\n",
        "\n"
      ],
      "metadata": {
        "id": "CdwdJ2sDUwLz"
      }
    },
    {
      "cell_type": "code",
      "source": [
        "print('I'm Pretty Sure 'Exploring' Is Code')"
      ],
      "metadata": {
        "colab": {
          "base_uri": "https://localhost:8080/",
          "height": 136
        },
        "id": "g6s-W3eCU2oD",
        "outputId": "b7ce7ea0-b54b-420d-cff1-a9a0de0ae37f"
      },
      "execution_count": 2,
      "outputs": [
        {
          "output_type": "error",
          "ename": "SyntaxError",
          "evalue": "ignored",
          "traceback": [
            "\u001b[0;36m  File \u001b[0;32m\"<ipython-input-2-a65340bb0039>\"\u001b[0;36m, line \u001b[0;32m1\u001b[0m\n\u001b[0;31m    print('I'm Pretty Sure 'Exploring' Is Code')\u001b[0m\n\u001b[0m             ^\u001b[0m\n\u001b[0;31mSyntaxError\u001b[0m\u001b[0;31m:\u001b[0m invalid syntax\n"
          ]
        }
      ]
    },
    {
      "cell_type": "code",
      "source": [
        "print('I\\'m Pretty Sure \\'Exploring\\' Is Code')"
      ],
      "metadata": {
        "colab": {
          "base_uri": "https://localhost:8080/"
        },
        "id": "VHjCGotWTvzD",
        "outputId": "f973bf3f-201c-4870-fc11-62ab38b7d6a8"
      },
      "execution_count": 3,
      "outputs": [
        {
          "output_type": "stream",
          "name": "stdout",
          "text": [
            "I'm Pretty Sure 'Exploring' Is Code\n"
          ]
        }
      ]
    },
    {
      "cell_type": "markdown",
      "source": [
        "## Question 02\n",
        "\n",
        "What do the escape characters `\\n` and `\\t` stand for?\n",
        "\n",
        "#### Solution\n",
        "\n",
        "- `\\n` : New line escape character\n",
        "- `\\t` : Tab space escape character "
      ],
      "metadata": {
        "id": "5lEm7MRGVFeS"
      }
    },
    {
      "cell_type": "code",
      "source": [
        "# Use of \\n\n",
        "print(\"Hello!!!\\nI'm Groot.\")"
      ],
      "metadata": {
        "colab": {
          "base_uri": "https://localhost:8080/"
        },
        "id": "xwVcHB8-U8i3",
        "outputId": "da39d35c-a4e7-4f31-ac19-495c219904c9"
      },
      "execution_count": 4,
      "outputs": [
        {
          "output_type": "stream",
          "name": "stdout",
          "text": [
            "Hello!!!\n",
            "I'm Groot.\n"
          ]
        }
      ]
    },
    {
      "cell_type": "code",
      "source": [
        "# Use of \\t\n",
        "print(\"Hello!!!\\tI'm Groot.\")"
      ],
      "metadata": {
        "colab": {
          "base_uri": "https://localhost:8080/"
        },
        "id": "s6UB6JVaUNnx",
        "outputId": "dd226801-2fb3-4284-ce9c-9fc1fd5b33f3"
      },
      "execution_count": 5,
      "outputs": [
        {
          "output_type": "stream",
          "name": "stdout",
          "text": [
            "Hello!!!\tI'm Groot.\n"
          ]
        }
      ]
    },
    {
      "cell_type": "markdown",
      "source": [
        "## Question 03\n",
        "\n",
        "What is the way to include backslash character in a string?\n",
        "\n",
        "#### Solution\n",
        "\n",
        "A blackslash character can be introduced with double blackslash characters."
      ],
      "metadata": {
        "id": "jLwIMnpcVY2z"
      }
    },
    {
      "cell_type": "code",
      "source": [
        "# Using single backslash character\n",
        "print('\\')"
      ],
      "metadata": {
        "colab": {
          "base_uri": "https://localhost:8080/",
          "height": 136
        },
        "id": "BA3tjYCzVXGE",
        "outputId": "d7f5783f-4447-4936-9e2a-d8a54b87239b"
      },
      "execution_count": 6,
      "outputs": [
        {
          "output_type": "error",
          "ename": "SyntaxError",
          "evalue": "ignored",
          "traceback": [
            "\u001b[0;36m  File \u001b[0;32m\"<ipython-input-6-d9068f19e013>\"\u001b[0;36m, line \u001b[0;32m2\u001b[0m\n\u001b[0;31m    print('\\')\u001b[0m\n\u001b[0m              ^\u001b[0m\n\u001b[0;31mSyntaxError\u001b[0m\u001b[0;31m:\u001b[0m EOL while scanning string literal\n"
          ]
        }
      ]
    },
    {
      "cell_type": "code",
      "source": [
        "print('\\\\')"
      ],
      "metadata": {
        "colab": {
          "base_uri": "https://localhost:8080/"
        },
        "id": "QKL3BZQLWMed",
        "outputId": "236b88b3-6b94-4b5d-babd-8d5e5b4445c9"
      },
      "execution_count": 7,
      "outputs": [
        {
          "output_type": "stream",
          "name": "stdout",
          "text": [
            "\\\n"
          ]
        }
      ]
    },
    {
      "cell_type": "markdown",
      "source": [
        "## Question 04\n",
        "\n",
        "The string \"Howl's Moving Castle\" is a correct value. Why isn't the single quote character in the word Howl's not escaped a problem?\n",
        "\n",
        "#### Solution\n",
        "\n",
        "Because the complete string is enclosed under double quotes."
      ],
      "metadata": {
        "id": "P8Jrh5mcWWCl"
      }
    },
    {
      "cell_type": "code",
      "source": [
        "# if string was enclosed in single quotes it would have been a problem\n",
        "print('Howl's Moving Castle')"
      ],
      "metadata": {
        "colab": {
          "base_uri": "https://localhost:8080/",
          "height": 136
        },
        "id": "H1KgruU5WSg9",
        "outputId": "3a70c834-4a06-48e5-bf99-52c0eb652c05"
      },
      "execution_count": 8,
      "outputs": [
        {
          "output_type": "error",
          "ename": "SyntaxError",
          "evalue": "ignored",
          "traceback": [
            "\u001b[0;36m  File \u001b[0;32m\"<ipython-input-8-5c636cb85b09>\"\u001b[0;36m, line \u001b[0;32m2\u001b[0m\n\u001b[0;31m    print('Howl's Moving Castle')\u001b[0m\n\u001b[0m                ^\u001b[0m\n\u001b[0;31mSyntaxError\u001b[0m\u001b[0;31m:\u001b[0m invalid syntax\n"
          ]
        }
      ]
    },
    {
      "cell_type": "code",
      "source": [
        "# adding backslash\n",
        "print('Howl\\'s Moving Castle')"
      ],
      "metadata": {
        "colab": {
          "base_uri": "https://localhost:8080/"
        },
        "id": "1On1x2eOVOgY",
        "outputId": "67f88cf2-6ddc-4041-b7f1-605fd8aac63b"
      },
      "execution_count": 9,
      "outputs": [
        {
          "output_type": "stream",
          "name": "stdout",
          "text": [
            "Howl's Moving Castle\n"
          ]
        }
      ]
    },
    {
      "cell_type": "markdown",
      "source": [
        "## Question 05\n",
        "\n",
        "How do you write a string of newlines if you don't want to use the n character?\n",
        "\n",
        "#### Solution\n",
        "\n",
        "By default print statements add a new line character at the end of the string. We have to use multiline approach."
      ],
      "metadata": {
        "id": "atKOix8vWnJ1"
      }
    },
    {
      "cell_type": "code",
      "source": [
        "print(\"Hello\")\n",
        "print(\"World\")"
      ],
      "metadata": {
        "id": "S_c1lkaBWliB",
        "colab": {
          "base_uri": "https://localhost:8080/"
        },
        "outputId": "adfc03f1-09c6-49d8-bb8f-61e785fb51f9"
      },
      "execution_count": 10,
      "outputs": [
        {
          "output_type": "stream",
          "name": "stdout",
          "text": [
            "Hello\n",
            "World\n"
          ]
        }
      ]
    },
    {
      "cell_type": "markdown",
      "source": [
        "## Question 06\n",
        "\n",
        "What are the values of the given expressions?\n",
        "\n",
        "```python\n",
        "    'Hello, world!'[1]\n",
        "    'Hello, world!'[0:5]\n",
        "    'Hello, world!'[:5]\n",
        "    'Hello, world!'[3:]\n",
        "```\n",
        "\n",
        "#### Solution\n"
      ],
      "metadata": {
        "id": "Ht9I3U3QYx3-"
      }
    },
    {
      "cell_type": "code",
      "source": [
        "s = \"Hello, world!\""
      ],
      "metadata": {
        "id": "yCaal0UYYqGu"
      },
      "execution_count": 11,
      "outputs": []
    },
    {
      "cell_type": "code",
      "source": [
        "s[1]"
      ],
      "metadata": {
        "colab": {
          "base_uri": "https://localhost:8080/",
          "height": 36
        },
        "id": "s0SXjaHhZKPr",
        "outputId": "93fec512-fc0c-46dd-cfd6-236346a3e4b3"
      },
      "execution_count": 12,
      "outputs": [
        {
          "output_type": "execute_result",
          "data": {
            "application/vnd.google.colaboratory.intrinsic+json": {
              "type": "string"
            },
            "text/plain": [
              "'e'"
            ]
          },
          "metadata": {},
          "execution_count": 12
        }
      ]
    },
    {
      "cell_type": "code",
      "source": [
        "s[0:5]"
      ],
      "metadata": {
        "colab": {
          "base_uri": "https://localhost:8080/",
          "height": 36
        },
        "id": "K6klCpvIZRT7",
        "outputId": "64dfe8ed-4eb4-4df8-8ed2-755ae32835de"
      },
      "execution_count": 13,
      "outputs": [
        {
          "output_type": "execute_result",
          "data": {
            "application/vnd.google.colaboratory.intrinsic+json": {
              "type": "string"
            },
            "text/plain": [
              "'Hello'"
            ]
          },
          "metadata": {},
          "execution_count": 13
        }
      ]
    },
    {
      "cell_type": "code",
      "source": [
        "s[:5]"
      ],
      "metadata": {
        "colab": {
          "base_uri": "https://localhost:8080/",
          "height": 36
        },
        "id": "hf3CMTh7ZOAS",
        "outputId": "011d43eb-0eab-465f-8025-a8c24a30bbc0"
      },
      "execution_count": 14,
      "outputs": [
        {
          "output_type": "execute_result",
          "data": {
            "application/vnd.google.colaboratory.intrinsic+json": {
              "type": "string"
            },
            "text/plain": [
              "'Hello'"
            ]
          },
          "metadata": {},
          "execution_count": 14
        }
      ]
    },
    {
      "cell_type": "code",
      "source": [
        "s[3:]"
      ],
      "metadata": {
        "colab": {
          "base_uri": "https://localhost:8080/",
          "height": 36
        },
        "id": "DfqU-WD1WoVm",
        "outputId": "514bdc78-5b1b-40ca-f9dc-9e25e0165b13"
      },
      "execution_count": 15,
      "outputs": [
        {
          "output_type": "execute_result",
          "data": {
            "application/vnd.google.colaboratory.intrinsic+json": {
              "type": "string"
            },
            "text/plain": [
              "'lo, world!'"
            ]
          },
          "metadata": {},
          "execution_count": 15
        }
      ]
    },
    {
      "cell_type": "markdown",
      "source": [
        "## Question 07\n",
        "\n",
        "What are the values of the following expressions?\n",
        "\n",
        "```python\n",
        "    'Hello'.upper()\n",
        "    'Hello'.upper().isupper()\n",
        "    'Hello'.upper().lower()\n",
        "```\n",
        "\n",
        "### Solution"
      ],
      "metadata": {
        "id": "IIjtkBoXZvdY"
      }
    },
    {
      "cell_type": "code",
      "source": [
        "s = \"Hello\""
      ],
      "metadata": {
        "id": "TXeOe2gyZUZV"
      },
      "execution_count": 16,
      "outputs": []
    },
    {
      "cell_type": "code",
      "source": [
        "s.upper()"
      ],
      "metadata": {
        "colab": {
          "base_uri": "https://localhost:8080/",
          "height": 36
        },
        "id": "9qglAW5vaeFL",
        "outputId": "42a6c8b2-b81e-4b8b-ffee-62f3dbc4e904"
      },
      "execution_count": 17,
      "outputs": [
        {
          "output_type": "execute_result",
          "data": {
            "application/vnd.google.colaboratory.intrinsic+json": {
              "type": "string"
            },
            "text/plain": [
              "'HELLO'"
            ]
          },
          "metadata": {},
          "execution_count": 17
        }
      ]
    },
    {
      "cell_type": "code",
      "source": [
        "s.upper().isupper()"
      ],
      "metadata": {
        "colab": {
          "base_uri": "https://localhost:8080/"
        },
        "id": "qBOlXsjPajeU",
        "outputId": "963b0df9-fe1b-4450-e124-f433796ec52c"
      },
      "execution_count": 18,
      "outputs": [
        {
          "output_type": "execute_result",
          "data": {
            "text/plain": [
              "True"
            ]
          },
          "metadata": {},
          "execution_count": 18
        }
      ]
    },
    {
      "cell_type": "code",
      "source": [
        "s.upper().lower()"
      ],
      "metadata": {
        "colab": {
          "base_uri": "https://localhost:8080/",
          "height": 36
        },
        "id": "w9Dt-WuQW3mP",
        "outputId": "da422ddb-5080-4539-90d2-3186a50b0ab7"
      },
      "execution_count": 19,
      "outputs": [
        {
          "output_type": "execute_result",
          "data": {
            "application/vnd.google.colaboratory.intrinsic+json": {
              "type": "string"
            },
            "text/plain": [
              "'hello'"
            ]
          },
          "metadata": {},
          "execution_count": 19
        }
      ]
    },
    {
      "cell_type": "markdown",
      "source": [
        "## Question 08\n",
        "\n",
        "What are the values of the following expressions?\n",
        "\n",
        "#### Solution\n",
        "\n",
        "```python\n",
        "    'Remember, remember, the fifth of July.'.split()\n",
        "    '-'.join('There can only one.'.split())\n",
        "```"
      ],
      "metadata": {
        "id": "TCEOSD6oasaY"
      }
    },
    {
      "cell_type": "code",
      "source": [
        "'Remember, remember, the fifth of July.'.split()"
      ],
      "metadata": {
        "id": "_Wrjx3wNapm7",
        "colab": {
          "base_uri": "https://localhost:8080/"
        },
        "outputId": "2f0b5c43-7f7e-4e80-9ad7-c3b97a00957f"
      },
      "execution_count": 20,
      "outputs": [
        {
          "output_type": "execute_result",
          "data": {
            "text/plain": [
              "['Remember,', 'remember,', 'the', 'fifth', 'of', 'July.']"
            ]
          },
          "metadata": {},
          "execution_count": 20
        }
      ]
    },
    {
      "cell_type": "code",
      "source": [
        "'-'.join('There can only one.'.split())"
      ],
      "metadata": {
        "colab": {
          "base_uri": "https://localhost:8080/",
          "height": 36
        },
        "id": "frAv15wMbENf",
        "outputId": "bc8f88f3-0908-4f41-98d8-bb4b4cf89a8d"
      },
      "execution_count": 21,
      "outputs": [
        {
          "output_type": "execute_result",
          "data": {
            "application/vnd.google.colaboratory.intrinsic+json": {
              "type": "string"
            },
            "text/plain": [
              "'There-can-only-one.'"
            ]
          },
          "metadata": {},
          "execution_count": 21
        }
      ]
    },
    {
      "cell_type": "markdown",
      "source": [
        "## Question 09\n",
        "\n",
        "What are the methods for right-justifying, left-justifying, and centering a string?\n",
        "\n",
        "#### Solution"
      ],
      "metadata": {
        "id": "q97yidCaXIKg"
      }
    },
    {
      "cell_type": "code",
      "source": [
        "help(str.rjust)"
      ],
      "metadata": {
        "colab": {
          "base_uri": "https://localhost:8080/"
        },
        "id": "RJfCoXesXdXH",
        "outputId": "29ef5858-8d8c-4d4d-b7cc-e494d5765188"
      },
      "execution_count": 22,
      "outputs": [
        {
          "output_type": "stream",
          "name": "stdout",
          "text": [
            "Help on method_descriptor:\n",
            "\n",
            "rjust(self, width, fillchar=' ', /)\n",
            "    Return a right-justified string of length width.\n",
            "    \n",
            "    Padding is done using the specified fill character (default is a space).\n",
            "\n"
          ]
        }
      ]
    },
    {
      "cell_type": "code",
      "source": [
        "s = \"hello\"\n",
        "length = 10\n",
        "fillchars = \"$\"\n",
        "\n",
        "print(s.rjust(length, fillchars))"
      ],
      "metadata": {
        "colab": {
          "base_uri": "https://localhost:8080/"
        },
        "id": "CI2OKumWXe3N",
        "outputId": "e0ef0462-68cb-416e-8de2-9dfb87eab107"
      },
      "execution_count": 23,
      "outputs": [
        {
          "output_type": "stream",
          "name": "stdout",
          "text": [
            "$$$$$hello\n"
          ]
        }
      ]
    },
    {
      "cell_type": "code",
      "source": [
        "help(str.ljust)"
      ],
      "metadata": {
        "colab": {
          "base_uri": "https://localhost:8080/"
        },
        "id": "K2V4SeXoXuzu",
        "outputId": "789ca1d3-c490-4401-a5e8-cd5cb7d83a6a"
      },
      "execution_count": 24,
      "outputs": [
        {
          "output_type": "stream",
          "name": "stdout",
          "text": [
            "Help on method_descriptor:\n",
            "\n",
            "ljust(self, width, fillchar=' ', /)\n",
            "    Return a left-justified string of length width.\n",
            "    \n",
            "    Padding is done using the specified fill character (default is a space).\n",
            "\n"
          ]
        }
      ]
    },
    {
      "cell_type": "code",
      "source": [
        "s = \"hello\"\n",
        "length = 10\n",
        "fillchars = \"$\"\n",
        "\n",
        "print(s.ljust(length, fillchars))"
      ],
      "metadata": {
        "colab": {
          "base_uri": "https://localhost:8080/"
        },
        "id": "D2LsjrItXzAP",
        "outputId": "32dfa53b-8cda-45d2-9654-0d60ac417dd3"
      },
      "execution_count": 25,
      "outputs": [
        {
          "output_type": "stream",
          "name": "stdout",
          "text": [
            "hello$$$$$\n"
          ]
        }
      ]
    },
    {
      "cell_type": "code",
      "source": [
        "help(str.center)"
      ],
      "metadata": {
        "colab": {
          "base_uri": "https://localhost:8080/"
        },
        "id": "aygSFKoKX2YM",
        "outputId": "26015459-bc72-4aa4-8125-9f5d43c92c7e"
      },
      "execution_count": 26,
      "outputs": [
        {
          "output_type": "stream",
          "name": "stdout",
          "text": [
            "Help on method_descriptor:\n",
            "\n",
            "center(self, width, fillchar=' ', /)\n",
            "    Return a centered string of length width.\n",
            "    \n",
            "    Padding is done using the specified fill character (default is a space).\n",
            "\n"
          ]
        }
      ]
    },
    {
      "cell_type": "code",
      "source": [
        "s = \"hello\"\n",
        "length = 10\n",
        "fillchars = \"$\"\n",
        "\n",
        "print(s.center(length, fillchars))"
      ],
      "metadata": {
        "colab": {
          "base_uri": "https://localhost:8080/"
        },
        "id": "I7fxhVu9X9ZT",
        "outputId": "4f1995b5-621c-4376-d5f5-e5045adbc5cf"
      },
      "execution_count": 27,
      "outputs": [
        {
          "output_type": "stream",
          "name": "stdout",
          "text": [
            "$$hello$$$\n"
          ]
        }
      ]
    },
    {
      "cell_type": "markdown",
      "source": [
        "## Question 10\n",
        "\n",
        "What is the best way to remove whitespace characters from the start or end?\n",
        "\n",
        "#### Solution\n",
        "\n",
        "using `.strip()` function"
      ],
      "metadata": {
        "id": "uXUROjVLYFB2"
      }
    },
    {
      "cell_type": "code",
      "source": [
        "help(str.strip)"
      ],
      "metadata": {
        "colab": {
          "base_uri": "https://localhost:8080/"
        },
        "id": "NnnRe4rjY5Vr",
        "outputId": "9dd33edb-e763-4acd-b409-7a2f0f2aedac"
      },
      "execution_count": 28,
      "outputs": [
        {
          "output_type": "stream",
          "name": "stdout",
          "text": [
            "Help on method_descriptor:\n",
            "\n",
            "strip(self, chars=None, /)\n",
            "    Return a copy of the string with leading and trailing whitespace removed.\n",
            "    \n",
            "    If chars is given and not None, remove characters in chars instead.\n",
            "\n"
          ]
        }
      ]
    },
    {
      "cell_type": "code",
      "source": [
        "s = \"  Hello, I'm Groot. \" "
      ],
      "metadata": {
        "id": "GQvK9-alYBtu"
      },
      "execution_count": 29,
      "outputs": []
    },
    {
      "cell_type": "code",
      "source": [
        "print(len(s))\n",
        "print(s)"
      ],
      "metadata": {
        "colab": {
          "base_uri": "https://localhost:8080/"
        },
        "id": "nkMhbFdpYSLj",
        "outputId": "c6579ba4-26c3-4ea3-ff43-2e7e0e7dcdbf"
      },
      "execution_count": 30,
      "outputs": [
        {
          "output_type": "stream",
          "name": "stdout",
          "text": [
            "20\n",
            "  Hello, I'm Groot. \n"
          ]
        }
      ]
    },
    {
      "cell_type": "code",
      "source": [
        "# remove whitespaces\n",
        "s = s.strip()"
      ],
      "metadata": {
        "id": "dXymxnNBYTiK"
      },
      "execution_count": 31,
      "outputs": []
    },
    {
      "cell_type": "code",
      "source": [
        "print(len(s))\n",
        "print(s)"
      ],
      "metadata": {
        "colab": {
          "base_uri": "https://localhost:8080/"
        },
        "id": "5__R4i3cYaM8",
        "outputId": "6670ab72-4e59-4d3a-ea98-17361e5216a5"
      },
      "execution_count": 32,
      "outputs": [
        {
          "output_type": "stream",
          "name": "stdout",
          "text": [
            "17\n",
            "Hello, I'm Groot.\n"
          ]
        }
      ]
    },
    {
      "cell_type": "code",
      "source": [
        ""
      ],
      "metadata": {
        "id": "3UcKhIq1ufJP"
      },
      "execution_count": null,
      "outputs": []
    }
  ]
}