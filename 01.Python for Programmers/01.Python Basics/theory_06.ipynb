{
  "nbformat": 4,
  "nbformat_minor": 0,
  "metadata": {
    "orig_nbformat": 4,
    "language_info": {
      "name": "python",
      "version": "3.8.8",
      "mimetype": "text/x-python",
      "codemirror_mode": {
        "name": "ipython",
        "version": 3
      },
      "pygments_lexer": "ipython3",
      "nbconvert_exporter": "python",
      "file_extension": ".py"
    },
    "kernelspec": {
      "name": "python3",
      "display_name": "Python 3.8.8 64-bit ('base': conda)"
    },
    "interpreter": {
      "hash": "32004c3298a2e7fb08ce908835c9b26629c2a794a7626af23329d63295bbeafe"
    },
    "colab": {
      "name": "theory_06.ipynb",
      "provenance": [],
      "collapsed_sections": []
    }
  },
  "cells": [
    {
      "cell_type": "markdown",
      "metadata": {
        "id": "po5zPkqfvIXV"
      },
      "source": [
        "# Assignment #006\n",
        "\n",
        "Below are the problem sets for basics python."
      ]
    },
    {
      "cell_type": "code",
      "metadata": {
        "colab": {
          "base_uri": "https://localhost:8080/"
        },
        "id": "A5Em1XX5vQZr",
        "outputId": "289847e3-4287-4a79-dfcc-20397c9c245b"
      },
      "source": [
        "# checking python version\n",
        "!python --version"
      ],
      "execution_count": 1,
      "outputs": [
        {
          "output_type": "stream",
          "name": "stdout",
          "text": [
            "Python 3.7.12\n"
          ]
        }
      ]
    },
    {
      "cell_type": "markdown",
      "source": [
        "## Question 01\n",
        "\n",
        "What are escape characters, and how do you use them?\n",
        "\n",
        "#### Solution\n",
        "\n",
        "An escape character is a backslash `\\` followed by the character you want to insert.\n",
        "\n",
        "\n"
      ],
      "metadata": {
        "id": "CdwdJ2sDUwLz"
      }
    },
    {
      "cell_type": "code",
      "source": [
        "print('I'm Pretty Sure 'Exploring' Is Code')"
      ],
      "metadata": {
        "colab": {
          "base_uri": "https://localhost:8080/",
          "height": 136
        },
        "id": "g6s-W3eCU2oD",
        "outputId": "72d46b51-64eb-4e67-d8e3-18ef05f942f9"
      },
      "execution_count": 7,
      "outputs": [
        {
          "output_type": "error",
          "ename": "SyntaxError",
          "evalue": "ignored",
          "traceback": [
            "\u001b[0;36m  File \u001b[0;32m\"<ipython-input-7-a65340bb0039>\"\u001b[0;36m, line \u001b[0;32m1\u001b[0m\n\u001b[0;31m    print('I'm Pretty Sure 'Exploring' Is Code')\u001b[0m\n\u001b[0m             ^\u001b[0m\n\u001b[0;31mSyntaxError\u001b[0m\u001b[0;31m:\u001b[0m invalid syntax\n"
          ]
        }
      ]
    },
    {
      "cell_type": "code",
      "source": [
        "print('I\\'m Pretty Sure \\'Exploring\\' Is Code')"
      ],
      "metadata": {
        "colab": {
          "base_uri": "https://localhost:8080/"
        },
        "id": "VHjCGotWTvzD",
        "outputId": "675387b7-4f08-48bb-abd8-abc68ec9dd1c"
      },
      "execution_count": 8,
      "outputs": [
        {
          "output_type": "stream",
          "name": "stdout",
          "text": [
            "I'm Pretty Sure 'Exploring' Is Code\n"
          ]
        }
      ]
    },
    {
      "cell_type": "markdown",
      "source": [
        "## Question 02\n",
        "\n",
        "What do the escape characters `\\n` and `\\t` stand for?\n",
        "\n",
        "#### Solution\n",
        "\n",
        "- `\\n` : New line escape character\n",
        "- `\\t` : Tab space escape character "
      ],
      "metadata": {
        "id": "5lEm7MRGVFeS"
      }
    },
    {
      "cell_type": "code",
      "source": [
        "# Use of \\n\n",
        "print(\"Hello!!!\\nI'm Groot.\")"
      ],
      "metadata": {
        "colab": {
          "base_uri": "https://localhost:8080/"
        },
        "id": "xwVcHB8-U8i3",
        "outputId": "bbaaa195-3fe4-48bb-c858-39d0d8b58849"
      },
      "execution_count": 9,
      "outputs": [
        {
          "output_type": "stream",
          "name": "stdout",
          "text": [
            "Hello!!!\n",
            "I'm Groot.\n"
          ]
        }
      ]
    },
    {
      "cell_type": "code",
      "source": [
        "# Use of \\t\n",
        "print(\"Hello!!!\\tI'm Groot.\")"
      ],
      "metadata": {
        "colab": {
          "base_uri": "https://localhost:8080/"
        },
        "id": "s6UB6JVaUNnx",
        "outputId": "3bbb21af-3d9f-4f4a-a42d-cd417e546d59"
      },
      "execution_count": 10,
      "outputs": [
        {
          "output_type": "stream",
          "name": "stdout",
          "text": [
            "Hello!!!\tI'm Groot.\n"
          ]
        }
      ]
    },
    {
      "cell_type": "markdown",
      "source": [
        "## Question 03\n",
        "\n",
        "What is the way to include backslash character in a string?\n",
        "\n",
        "#### Solution\n",
        "\n",
        "A blackslash character can be introduced with double blackslash characters."
      ],
      "metadata": {
        "id": "jLwIMnpcVY2z"
      }
    },
    {
      "cell_type": "code",
      "source": [
        "# Using single backslash character\n",
        "print('\\')"
      ],
      "metadata": {
        "colab": {
          "base_uri": "https://localhost:8080/",
          "height": 136
        },
        "id": "BA3tjYCzVXGE",
        "outputId": "fb3569ad-827c-49ec-d8f4-c26c7e0db5ce"
      },
      "execution_count": 11,
      "outputs": [
        {
          "output_type": "error",
          "ename": "SyntaxError",
          "evalue": "ignored",
          "traceback": [
            "\u001b[0;36m  File \u001b[0;32m\"<ipython-input-11-d9068f19e013>\"\u001b[0;36m, line \u001b[0;32m2\u001b[0m\n\u001b[0;31m    print('\\')\u001b[0m\n\u001b[0m              ^\u001b[0m\n\u001b[0;31mSyntaxError\u001b[0m\u001b[0;31m:\u001b[0m EOL while scanning string literal\n"
          ]
        }
      ]
    },
    {
      "cell_type": "code",
      "source": [
        "print('\\\\')"
      ],
      "metadata": {
        "colab": {
          "base_uri": "https://localhost:8080/"
        },
        "id": "QKL3BZQLWMed",
        "outputId": "a861ce2f-b826-4db4-c180-a07ab5dad514"
      },
      "execution_count": 12,
      "outputs": [
        {
          "output_type": "stream",
          "name": "stdout",
          "text": [
            "\\\n"
          ]
        }
      ]
    },
    {
      "cell_type": "markdown",
      "source": [
        "## Question 04\n",
        "\n",
        "The string \"Howl's Moving Castle\" is a correct value. Why isn't the single quote character in the word Howl's not escaped a problem?\n",
        "\n",
        "#### Solution\n",
        "\n",
        "Because the complete string is enclosed under double quotes."
      ],
      "metadata": {
        "id": "P8Jrh5mcWWCl"
      }
    },
    {
      "cell_type": "code",
      "source": [
        "# if string was enclosed in single quotes it would have been a problem\n",
        "print('Howl's Moving Castle')"
      ],
      "metadata": {
        "colab": {
          "base_uri": "https://localhost:8080/",
          "height": 136
        },
        "id": "H1KgruU5WSg9",
        "outputId": "a0e98b58-a0bb-4666-dceb-ae30477efda5"
      },
      "execution_count": 13,
      "outputs": [
        {
          "output_type": "error",
          "ename": "SyntaxError",
          "evalue": "ignored",
          "traceback": [
            "\u001b[0;36m  File \u001b[0;32m\"<ipython-input-13-5c636cb85b09>\"\u001b[0;36m, line \u001b[0;32m2\u001b[0m\n\u001b[0;31m    print('Howl's Moving Castle')\u001b[0m\n\u001b[0m                ^\u001b[0m\n\u001b[0;31mSyntaxError\u001b[0m\u001b[0;31m:\u001b[0m invalid syntax\n"
          ]
        }
      ]
    },
    {
      "cell_type": "code",
      "source": [
        "# adding backslash\n",
        "print('Howl\\'s Moving Castle')"
      ],
      "metadata": {
        "colab": {
          "base_uri": "https://localhost:8080/"
        },
        "id": "1On1x2eOVOgY",
        "outputId": "3e45ca4e-9881-4959-88f1-748915a17703"
      },
      "execution_count": 14,
      "outputs": [
        {
          "output_type": "stream",
          "name": "stdout",
          "text": [
            "Howl's Moving Castle\n"
          ]
        }
      ]
    },
    {
      "cell_type": "markdown",
      "source": [
        "## Question 05\n",
        "\n",
        "How do you write a string of newlines if you don't want to use the n character?\n",
        "\n",
        "#### Solution\n",
        "\n",
        "By default print statements add a new line character at the end of the string. We have to use multiline approach."
      ],
      "metadata": {
        "id": "atKOix8vWnJ1"
      }
    },
    {
      "cell_type": "code",
      "source": [
        "print(\"Hello\")\n",
        "print(\"World\")"
      ],
      "metadata": {
        "id": "S_c1lkaBWliB",
        "colab": {
          "base_uri": "https://localhost:8080/"
        },
        "outputId": "83d620c1-d2b7-44bf-cf15-b1644c5329f2"
      },
      "execution_count": 15,
      "outputs": [
        {
          "output_type": "stream",
          "name": "stdout",
          "text": [
            "Hello\n",
            "World\n"
          ]
        }
      ]
    },
    {
      "cell_type": "markdown",
      "source": [
        "## Question 06\n",
        "\n",
        "What are the values of the given expressions?\n",
        "\n",
        "```python\n",
        "    'Hello, world!'[1]\n",
        "    'Hello, world!'[0:5]\n",
        "    'Hello, world!'[:5]\n",
        "    'Hello, world!'[3:]\n",
        "```\n",
        "\n",
        "#### Solution\n"
      ],
      "metadata": {
        "id": "Ht9I3U3QYx3-"
      }
    },
    {
      "cell_type": "code",
      "source": [
        "s = \"Hello, world!\""
      ],
      "metadata": {
        "id": "yCaal0UYYqGu"
      },
      "execution_count": 16,
      "outputs": []
    },
    {
      "cell_type": "code",
      "source": [
        "s[1]"
      ],
      "metadata": {
        "colab": {
          "base_uri": "https://localhost:8080/",
          "height": 36
        },
        "id": "s0SXjaHhZKPr",
        "outputId": "a3336b5d-7112-4469-fe84-079be7fd2ede"
      },
      "execution_count": 17,
      "outputs": [
        {
          "output_type": "execute_result",
          "data": {
            "application/vnd.google.colaboratory.intrinsic+json": {
              "type": "string"
            },
            "text/plain": [
              "'e'"
            ]
          },
          "metadata": {},
          "execution_count": 17
        }
      ]
    },
    {
      "cell_type": "code",
      "source": [
        "s[0:5]"
      ],
      "metadata": {
        "colab": {
          "base_uri": "https://localhost:8080/",
          "height": 36
        },
        "id": "K6klCpvIZRT7",
        "outputId": "2fd2e60a-4e6c-4def-8b8d-5268fb41f0c4"
      },
      "execution_count": 18,
      "outputs": [
        {
          "output_type": "execute_result",
          "data": {
            "application/vnd.google.colaboratory.intrinsic+json": {
              "type": "string"
            },
            "text/plain": [
              "'Hello'"
            ]
          },
          "metadata": {},
          "execution_count": 18
        }
      ]
    },
    {
      "cell_type": "code",
      "source": [
        "s[:5]"
      ],
      "metadata": {
        "colab": {
          "base_uri": "https://localhost:8080/",
          "height": 36
        },
        "id": "hf3CMTh7ZOAS",
        "outputId": "f42ab3e5-2e20-418b-b04d-a7a272d409ed"
      },
      "execution_count": 19,
      "outputs": [
        {
          "output_type": "execute_result",
          "data": {
            "application/vnd.google.colaboratory.intrinsic+json": {
              "type": "string"
            },
            "text/plain": [
              "'Hello'"
            ]
          },
          "metadata": {},
          "execution_count": 19
        }
      ]
    },
    {
      "cell_type": "code",
      "source": [
        "s[3:]"
      ],
      "metadata": {
        "colab": {
          "base_uri": "https://localhost:8080/",
          "height": 36
        },
        "id": "DfqU-WD1WoVm",
        "outputId": "0706fd07-8048-4d47-8959-d76827b0330a"
      },
      "execution_count": 20,
      "outputs": [
        {
          "output_type": "execute_result",
          "data": {
            "application/vnd.google.colaboratory.intrinsic+json": {
              "type": "string"
            },
            "text/plain": [
              "'lo, world!'"
            ]
          },
          "metadata": {},
          "execution_count": 20
        }
      ]
    },
    {
      "cell_type": "markdown",
      "source": [
        "## Question 07\n",
        "\n",
        "What are the values of the following expressions?\n",
        "\n",
        "```python\n",
        "    'Hello'.upper()\n",
        "    'Hello'.upper().isupper()\n",
        "    'Hello'.upper().lower()\n",
        "```\n",
        "\n",
        "### Solution"
      ],
      "metadata": {
        "id": "IIjtkBoXZvdY"
      }
    },
    {
      "cell_type": "code",
      "source": [
        "s = \"Hello\""
      ],
      "metadata": {
        "id": "TXeOe2gyZUZV"
      },
      "execution_count": 21,
      "outputs": []
    },
    {
      "cell_type": "code",
      "source": [
        "s.upper()"
      ],
      "metadata": {
        "colab": {
          "base_uri": "https://localhost:8080/",
          "height": 36
        },
        "id": "9qglAW5vaeFL",
        "outputId": "c71fcfe0-89af-485b-9e8d-23375cf8e772"
      },
      "execution_count": 22,
      "outputs": [
        {
          "output_type": "execute_result",
          "data": {
            "application/vnd.google.colaboratory.intrinsic+json": {
              "type": "string"
            },
            "text/plain": [
              "'HELLO'"
            ]
          },
          "metadata": {},
          "execution_count": 22
        }
      ]
    },
    {
      "cell_type": "code",
      "source": [
        "s.upper().isupper()"
      ],
      "metadata": {
        "colab": {
          "base_uri": "https://localhost:8080/"
        },
        "id": "qBOlXsjPajeU",
        "outputId": "c6507907-aa86-4800-be95-a3a6e3ca6687"
      },
      "execution_count": 23,
      "outputs": [
        {
          "output_type": "execute_result",
          "data": {
            "text/plain": [
              "True"
            ]
          },
          "metadata": {},
          "execution_count": 23
        }
      ]
    },
    {
      "cell_type": "code",
      "source": [
        "s.upper().lower()"
      ],
      "metadata": {
        "colab": {
          "base_uri": "https://localhost:8080/",
          "height": 36
        },
        "id": "w9Dt-WuQW3mP",
        "outputId": "b9e30d96-faf4-4b47-c206-c47788a75583"
      },
      "execution_count": 24,
      "outputs": [
        {
          "output_type": "execute_result",
          "data": {
            "application/vnd.google.colaboratory.intrinsic+json": {
              "type": "string"
            },
            "text/plain": [
              "'hello'"
            ]
          },
          "metadata": {},
          "execution_count": 24
        }
      ]
    },
    {
      "cell_type": "markdown",
      "source": [
        "## Question 08\n",
        "\n",
        "What are the values of the following expressions?\n",
        "\n",
        "#### Solution\n",
        "\n",
        "```python\n",
        "    'Remember, remember, the fifth of July.'.split()\n",
        "    '-'.join('There can only one.'.split())\n",
        "```"
      ],
      "metadata": {
        "id": "TCEOSD6oasaY"
      }
    },
    {
      "cell_type": "code",
      "source": [
        "'Remember, remember, the fifth of July.'.split()"
      ],
      "metadata": {
        "id": "_Wrjx3wNapm7",
        "colab": {
          "base_uri": "https://localhost:8080/"
        },
        "outputId": "84f9787b-59e6-47d9-9d66-efa919a959f6"
      },
      "execution_count": 25,
      "outputs": [
        {
          "output_type": "execute_result",
          "data": {
            "text/plain": [
              "['Remember,', 'remember,', 'the', 'fifth', 'of', 'July.']"
            ]
          },
          "metadata": {},
          "execution_count": 25
        }
      ]
    },
    {
      "cell_type": "code",
      "source": [
        "'-'.join('There can only one.'.split())"
      ],
      "metadata": {
        "colab": {
          "base_uri": "https://localhost:8080/",
          "height": 36
        },
        "id": "frAv15wMbENf",
        "outputId": "d0f91406-1ce7-4fd0-d0d6-0ea8e6e554bb"
      },
      "execution_count": 26,
      "outputs": [
        {
          "output_type": "execute_result",
          "data": {
            "application/vnd.google.colaboratory.intrinsic+json": {
              "type": "string"
            },
            "text/plain": [
              "'There-can-only-one.'"
            ]
          },
          "metadata": {},
          "execution_count": 26
        }
      ]
    },
    {
      "cell_type": "markdown",
      "source": [
        "## Question 09\n",
        "\n",
        "What are the methods for right-justifying, left-justifying, and centering a string?\n",
        "\n",
        "#### Solution"
      ],
      "metadata": {
        "id": "q97yidCaXIKg"
      }
    },
    {
      "cell_type": "code",
      "source": [
        "help(str.rjust)"
      ],
      "metadata": {
        "colab": {
          "base_uri": "https://localhost:8080/"
        },
        "id": "RJfCoXesXdXH",
        "outputId": "699261a1-300a-461f-a1e8-4fdca262a9fc"
      },
      "execution_count": 27,
      "outputs": [
        {
          "output_type": "stream",
          "name": "stdout",
          "text": [
            "Help on method_descriptor:\n",
            "\n",
            "rjust(self, width, fillchar=' ', /)\n",
            "    Return a right-justified string of length width.\n",
            "    \n",
            "    Padding is done using the specified fill character (default is a space).\n",
            "\n"
          ]
        }
      ]
    },
    {
      "cell_type": "code",
      "source": [
        "s = \"hello\"\n",
        "length = 10\n",
        "fillchars = \"$\"\n",
        "\n",
        "print(s.rjust(length, fillchars))"
      ],
      "metadata": {
        "colab": {
          "base_uri": "https://localhost:8080/"
        },
        "id": "CI2OKumWXe3N",
        "outputId": "6c99eda1-315c-4407-b7b2-8984fe8f5ebc"
      },
      "execution_count": 28,
      "outputs": [
        {
          "output_type": "stream",
          "name": "stdout",
          "text": [
            "$$$$$hello\n"
          ]
        }
      ]
    },
    {
      "cell_type": "code",
      "source": [
        "help(str.ljust)"
      ],
      "metadata": {
        "colab": {
          "base_uri": "https://localhost:8080/"
        },
        "id": "K2V4SeXoXuzu",
        "outputId": "bed7d9c8-4961-4f5e-98b3-632af88e0f19"
      },
      "execution_count": 29,
      "outputs": [
        {
          "output_type": "stream",
          "name": "stdout",
          "text": [
            "Help on method_descriptor:\n",
            "\n",
            "ljust(self, width, fillchar=' ', /)\n",
            "    Return a left-justified string of length width.\n",
            "    \n",
            "    Padding is done using the specified fill character (default is a space).\n",
            "\n"
          ]
        }
      ]
    },
    {
      "cell_type": "code",
      "source": [
        "s = \"hello\"\n",
        "length = 10\n",
        "fillchars = \"$\"\n",
        "\n",
        "print(s.ljust(length, fillchars))"
      ],
      "metadata": {
        "colab": {
          "base_uri": "https://localhost:8080/"
        },
        "id": "D2LsjrItXzAP",
        "outputId": "2a59bf34-0f5f-4969-a8bf-7b0d745c2339"
      },
      "execution_count": 30,
      "outputs": [
        {
          "output_type": "stream",
          "name": "stdout",
          "text": [
            "hello$$$$$\n"
          ]
        }
      ]
    },
    {
      "cell_type": "code",
      "source": [
        "help(str.center)"
      ],
      "metadata": {
        "colab": {
          "base_uri": "https://localhost:8080/"
        },
        "id": "aygSFKoKX2YM",
        "outputId": "a6d3632e-bf32-4f0a-8142-065d4591dc05"
      },
      "execution_count": 31,
      "outputs": [
        {
          "output_type": "stream",
          "name": "stdout",
          "text": [
            "Help on method_descriptor:\n",
            "\n",
            "center(self, width, fillchar=' ', /)\n",
            "    Return a centered string of length width.\n",
            "    \n",
            "    Padding is done using the specified fill character (default is a space).\n",
            "\n"
          ]
        }
      ]
    },
    {
      "cell_type": "code",
      "source": [
        "s = \"hello\"\n",
        "length = 10\n",
        "fillchars = \"$\"\n",
        "\n",
        "print(s.center(length, fillchars))"
      ],
      "metadata": {
        "colab": {
          "base_uri": "https://localhost:8080/"
        },
        "id": "I7fxhVu9X9ZT",
        "outputId": "c1dfaaa0-e18f-4b23-c911-07fd461663a5"
      },
      "execution_count": 32,
      "outputs": [
        {
          "output_type": "stream",
          "name": "stdout",
          "text": [
            "$$hello$$$\n"
          ]
        }
      ]
    },
    {
      "cell_type": "markdown",
      "source": [
        "## Question 10\n",
        "\n",
        "What is the best way to remove whitespace characters from the start or end?\n",
        "\n",
        "#### Solution\n",
        "\n",
        "using `.strip()` function"
      ],
      "metadata": {
        "id": "uXUROjVLYFB2"
      }
    },
    {
      "cell_type": "code",
      "source": [
        "help(str.strip)"
      ],
      "metadata": {
        "colab": {
          "base_uri": "https://localhost:8080/"
        },
        "id": "NnnRe4rjY5Vr",
        "outputId": "6e515e54-b0d8-44fb-bcdf-1dc14c39337e"
      },
      "execution_count": 34,
      "outputs": [
        {
          "output_type": "stream",
          "name": "stdout",
          "text": [
            "Help on method_descriptor:\n",
            "\n",
            "strip(self, chars=None, /)\n",
            "    Return a copy of the string with leading and trailing whitespace removed.\n",
            "    \n",
            "    If chars is given and not None, remove characters in chars instead.\n",
            "\n"
          ]
        }
      ]
    },
    {
      "cell_type": "code",
      "source": [
        "s = \"  Hello, I'm Groot. \" "
      ],
      "metadata": {
        "id": "GQvK9-alYBtu"
      },
      "execution_count": 35,
      "outputs": []
    },
    {
      "cell_type": "code",
      "source": [
        "print(len(s))\n",
        "print(s)"
      ],
      "metadata": {
        "colab": {
          "base_uri": "https://localhost:8080/"
        },
        "id": "nkMhbFdpYSLj",
        "outputId": "090e472b-9cec-4c04-cd25-2d197305c894"
      },
      "execution_count": 36,
      "outputs": [
        {
          "output_type": "stream",
          "name": "stdout",
          "text": [
            "20\n",
            "  Hello, I'm Groot. \n"
          ]
        }
      ]
    },
    {
      "cell_type": "code",
      "source": [
        "# remove whitespaces\n",
        "s = s.strip()"
      ],
      "metadata": {
        "id": "dXymxnNBYTiK"
      },
      "execution_count": 37,
      "outputs": []
    },
    {
      "cell_type": "code",
      "source": [
        "print(len(s))\n",
        "print(s)"
      ],
      "metadata": {
        "colab": {
          "base_uri": "https://localhost:8080/"
        },
        "id": "5__R4i3cYaM8",
        "outputId": "350b206e-109c-4920-d396-29066cdf9153"
      },
      "execution_count": 38,
      "outputs": [
        {
          "output_type": "stream",
          "name": "stdout",
          "text": [
            "17\n",
            "Hello, I'm Groot.\n"
          ]
        }
      ]
    }
  ]
}