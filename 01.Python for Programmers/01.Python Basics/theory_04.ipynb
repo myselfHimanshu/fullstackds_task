{
  "nbformat": 4,
  "nbformat_minor": 0,
  "metadata": {
    "orig_nbformat": 4,
    "language_info": {
      "name": "python",
      "version": "3.8.8",
      "mimetype": "text/x-python",
      "codemirror_mode": {
        "name": "ipython",
        "version": 3
      },
      "pygments_lexer": "ipython3",
      "nbconvert_exporter": "python",
      "file_extension": ".py"
    },
    "kernelspec": {
      "name": "python3",
      "display_name": "Python 3.8.8 64-bit ('base': conda)"
    },
    "interpreter": {
      "hash": "32004c3298a2e7fb08ce908835c9b26629c2a794a7626af23329d63295bbeafe"
    },
    "colab": {
      "name": "theory_04.ipynb",
      "provenance": [],
      "collapsed_sections": []
    }
  },
  "cells": [
    {
      "cell_type": "markdown",
      "metadata": {
        "id": "po5zPkqfvIXV"
      },
      "source": [
        "# Assignment #004\n",
        "\n",
        "Below are the problem sets for basics python."
      ]
    },
    {
      "cell_type": "code",
      "metadata": {
        "colab": {
          "base_uri": "https://localhost:8080/"
        },
        "id": "A5Em1XX5vQZr",
        "outputId": "b33743bb-e25d-41fa-85ad-43ac1975f6f2"
      },
      "source": [
        "# checking python version\n",
        "!python --version"
      ],
      "execution_count": 1,
      "outputs": [
        {
          "output_type": "stream",
          "name": "stdout",
          "text": [
            "Python 3.7.12\n"
          ]
        }
      ]
    },
    {
      "cell_type": "markdown",
      "metadata": {
        "id": "I2NwJYE1vIXa"
      },
      "source": [
        "## Question 1\n",
        "\n",
        "What exactly is []?\n",
        "\n",
        "#### Solution\n",
        "\n",
        "`[]` represents an empty list in Python.\n"
      ]
    },
    {
      "cell_type": "code",
      "metadata": {
        "colab": {
          "base_uri": "https://localhost:8080/"
        },
        "id": "miycNiZevIXa",
        "outputId": "9ccf5902-6d14-4dac-8cbd-f04f5b340a7a"
      },
      "source": [
        "my_list = []\n",
        "print(type(my_list))"
      ],
      "execution_count": 2,
      "outputs": [
        {
          "output_type": "stream",
          "name": "stdout",
          "text": [
            "<class 'list'>\n"
          ]
        }
      ]
    },
    {
      "cell_type": "markdown",
      "metadata": {
        "id": "3wXh8kuUvIXd"
      },
      "source": [
        "## Question 2\n",
        "\n",
        "In a list of values stored in a variable called spam, how would you assign the value 'hello' as the third value? (Assume [2, 4, 6, 8, 10] are in spam.)\n",
        "\n",
        "#### Solution"
      ]
    },
    {
      "cell_type": "code",
      "metadata": {
        "id": "pwxQUOmuvIXd",
        "colab": {
          "base_uri": "https://localhost:8080/"
        },
        "outputId": "f52a71c3-0d37-404a-e377-fecb168002e4"
      },
      "source": [
        "# define spam\n",
        "spam = [2, 4, 6, 8, 10]\n",
        "\n",
        "# assign hello as third value\n",
        "print(f\"Original list : {spam}\")\n",
        "print(f\"Third value is : {spam[2]}\")\n",
        "spam[2] = \"hello\"\n",
        "\n",
        "print(f\"New list becomes : {spam}\")\n",
        "\n"
      ],
      "execution_count": 3,
      "outputs": [
        {
          "output_type": "stream",
          "name": "stdout",
          "text": [
            "Original list : [2, 4, 6, 8, 10]\n",
            "Third value is : 6\n",
            "New list becomes : [2, 4, 'hello', 8, 10]\n"
          ]
        }
      ]
    },
    {
      "cell_type": "markdown",
      "metadata": {
        "id": "WkqxgP9_vIXe"
      },
      "source": [
        "## Question 3\n",
        "\n",
        "Assuming,\n",
        "\n",
        "```python\n",
        "spam = ['a', 'b', 'c', 'd']\n",
        "```\n",
        "\n",
        "What is the value of `spam[int(int('3' * 2) / 11)]`?\n",
        "\n",
        "#### Solution\n",
        "\n",
        "Steps,\n",
        "1. spam[int(int('3'*2)/11)]\n",
        "2. spam[int(int('33')/11)]\n",
        "3. spam[int(33/11)]\n",
        "4. spam[int(3.0)]\n",
        "5. spam[3] = 'd'\n",
        "\n"
      ]
    },
    {
      "cell_type": "code",
      "metadata": {
        "colab": {
          "base_uri": "https://localhost:8080/",
          "height": 36
        },
        "id": "PdIUdumUvIXf",
        "outputId": "cb1e77e0-eade-40b3-c356-3993dec9152f"
      },
      "source": [
        "spam = ['a', 'b', 'c', 'd']\n",
        "spam[int(int('3'*2)/11)]"
      ],
      "execution_count": 4,
      "outputs": [
        {
          "output_type": "execute_result",
          "data": {
            "application/vnd.google.colaboratory.intrinsic+json": {
              "type": "string"
            },
            "text/plain": [
              "'d'"
            ]
          },
          "metadata": {},
          "execution_count": 4
        }
      ]
    },
    {
      "cell_type": "markdown",
      "metadata": {
        "id": "zZFmMP44vIXg"
      },
      "source": [
        "## Question 4\n",
        "\n",
        "Assuming,\n",
        "\n",
        "```python\n",
        "spam = ['a', 'b', 'c', 'd']\n",
        "```\n",
        "\n",
        "What is value of spam[-1]?\n",
        "\n",
        "#### Solution"
      ]
    },
    {
      "cell_type": "code",
      "source": [
        "spam = ['a', 'b', 'c', 'd']\n",
        "spam[-1]"
      ],
      "metadata": {
        "colab": {
          "base_uri": "https://localhost:8080/",
          "height": 36
        },
        "id": "hJbKcHxf899h",
        "outputId": "7a1a5855-c32a-49a9-94ba-748e62e2cfb0"
      },
      "execution_count": 5,
      "outputs": [
        {
          "output_type": "execute_result",
          "data": {
            "application/vnd.google.colaboratory.intrinsic+json": {
              "type": "string"
            },
            "text/plain": [
              "'d'"
            ]
          },
          "metadata": {},
          "execution_count": 5
        }
      ]
    },
    {
      "cell_type": "markdown",
      "source": [
        "## Question 5\n",
        "\n",
        "Assuming,\n",
        "\n",
        "```python\n",
        "spam = ['a', 'b', 'c', 'd']\n",
        "```\n",
        "\n",
        "What is the value of spam[:2]?\n",
        "\n",
        "#### Solution\n",
        "\n",
        "This is called string slicing."
      ],
      "metadata": {
        "id": "_xcU-qZohHV2"
      }
    },
    {
      "cell_type": "code",
      "metadata": {
        "id": "L7XQ4VtV-kXd",
        "colab": {
          "base_uri": "https://localhost:8080/"
        },
        "outputId": "a6ef1cc4-bf24-4df3-ae58-eec1f9c53d53"
      },
      "source": [
        "spam = ['a', 'b', 'c', 'd']\n",
        "spam[:2]"
      ],
      "execution_count": 6,
      "outputs": [
        {
          "output_type": "execute_result",
          "data": {
            "text/plain": [
              "['a', 'b']"
            ]
          },
          "metadata": {},
          "execution_count": 6
        }
      ]
    },
    {
      "cell_type": "markdown",
      "source": [
        "## Question 6\n",
        "\n",
        "Assuming,\n",
        "\n",
        "```python\n",
        "bacon = [3.14, 'cat', 11, 'cat', True]\n",
        "```\n",
        "\n",
        "What is the value of bacon.index('cat')?\n",
        "\n",
        "### Solution\n",
        "\n",
        "Returns first occurance index."
      ],
      "metadata": {
        "id": "ZgmRYxXI3Qft"
      }
    },
    {
      "cell_type": "code",
      "source": [
        "bacon = [3.14, 'cat', 11, 'cat', True]\n",
        "bacon.index('cat')"
      ],
      "metadata": {
        "colab": {
          "base_uri": "https://localhost:8080/"
        },
        "id": "XU-erAvT9iYO",
        "outputId": "d0f23b1f-f426-4fc7-da97-44807d7edf9e"
      },
      "execution_count": 7,
      "outputs": [
        {
          "output_type": "execute_result",
          "data": {
            "text/plain": [
              "1"
            ]
          },
          "metadata": {},
          "execution_count": 7
        }
      ]
    },
    {
      "cell_type": "markdown",
      "source": [
        "## Question 7\n",
        "\n",
        "Assuming,\n",
        "\n",
        "```python\n",
        "bacon = [3.14, 'cat', 11, 'cat', True]\n",
        "```\n",
        "\n",
        "How does bacon.append(99) change the look of the list value in bacon?\n",
        "\n",
        "### Solution"
      ],
      "metadata": {
        "id": "FaapU6OC37hH"
      }
    },
    {
      "cell_type": "code",
      "source": [
        "bacon = [3.14, 'cat', 11, 'cat', True]\n",
        "\n",
        "print(f\"Original List : {bacon}\")\n",
        "bacon.append(99)\n",
        "print(f\"Updated List : {bacon}\")"
      ],
      "metadata": {
        "colab": {
          "base_uri": "https://localhost:8080/"
        },
        "id": "eDQIIXJei4UK",
        "outputId": "2b4464d3-b728-42ff-8e69-aa77c7a5cd0d"
      },
      "execution_count": 8,
      "outputs": [
        {
          "output_type": "stream",
          "name": "stdout",
          "text": [
            "Original List : [3.14, 'cat', 11, 'cat', True]\n",
            "Updated List : [3.14, 'cat', 11, 'cat', True, 99]\n"
          ]
        }
      ]
    },
    {
      "cell_type": "markdown",
      "source": [
        "## Question 8\n",
        "\n",
        "Assuming,\n",
        "\n",
        "```python\n",
        "bacon = [3.14, 'cat', 11, 'cat', True]\n",
        "```\n",
        "\n",
        "How does bacon.remove('cat') change the look of the list in bacon?\n",
        "\n",
        "### Solution\n",
        "\n",
        "Removes first instance of 'cat'"
      ],
      "metadata": {
        "id": "Ytd1RQhU5q-9"
      }
    },
    {
      "cell_type": "code",
      "source": [
        "bacon = [3.14, 'cat', 11, 'cat', True]\n",
        "\n",
        "print(f\"Original List : {bacon}\")\n",
        "bacon.remove('cat')\n",
        "print(f\"Updated List : {bacon}\")"
      ],
      "metadata": {
        "colab": {
          "base_uri": "https://localhost:8080/"
        },
        "id": "A9GZGBiW5qZP",
        "outputId": "9a0e9742-c9df-4302-9754-71976591a2f4"
      },
      "execution_count": 9,
      "outputs": [
        {
          "output_type": "stream",
          "name": "stdout",
          "text": [
            "Original List : [3.14, 'cat', 11, 'cat', True]\n",
            "Updated List : [3.14, 11, 'cat', True]\n"
          ]
        }
      ]
    },
    {
      "cell_type": "markdown",
      "source": [
        "## Question 9\n",
        "\n",
        "What are the list concatenation and list replication operators?\n",
        "\n",
        "### Solution\n",
        "\n",
        "Operator used for list concatenation is `+`, whereas operator used for list replication is `*`."
      ],
      "metadata": {
        "id": "89ONj3Tu6J-R"
      }
    },
    {
      "cell_type": "code",
      "source": [
        "# list concatenation\n",
        "\n",
        "list_a = ['hello', 'my', 'name']\n",
        "list_b = ['is', 'Himanshu']\n",
        "\n",
        "list_a + list_b"
      ],
      "metadata": {
        "colab": {
          "base_uri": "https://localhost:8080/"
        },
        "id": "2DAT5m2K5bwU",
        "outputId": "47dc301c-908d-42ab-b2b0-c83771b1777b"
      },
      "execution_count": 10,
      "outputs": [
        {
          "output_type": "execute_result",
          "data": {
            "text/plain": [
              "['hello', 'my', 'name', 'is', 'Himanshu']"
            ]
          },
          "metadata": {},
          "execution_count": 10
        }
      ]
    },
    {
      "cell_type": "code",
      "source": [
        "# list replication\n",
        "\n",
        "list_a = ['3', 'tom', True]\n",
        "\n",
        "list_a*2"
      ],
      "metadata": {
        "colab": {
          "base_uri": "https://localhost:8080/"
        },
        "id": "HfOVvrzqA2P_",
        "outputId": "1aa20d48-1bd9-4cdd-b1a7-19013d9449d9"
      },
      "execution_count": 11,
      "outputs": [
        {
          "output_type": "execute_result",
          "data": {
            "text/plain": [
              "['3', 'tom', True, '3', 'tom', True]"
            ]
          },
          "metadata": {},
          "execution_count": 11
        }
      ]
    },
    {
      "cell_type": "markdown",
      "source": [
        "## Question 10\n",
        "\n",
        "What is difference between the list methods append() and insert()?\n",
        "\n",
        "### Solution"
      ],
      "metadata": {
        "id": "4r2j09VW8WSo"
      }
    },
    {
      "cell_type": "code",
      "source": [
        "help(list.append)"
      ],
      "metadata": {
        "colab": {
          "base_uri": "https://localhost:8080/"
        },
        "id": "7g22qLqJ7bMS",
        "outputId": "c6f132c2-4640-497b-9348-cbcf75fdbf2b"
      },
      "execution_count": 12,
      "outputs": [
        {
          "output_type": "stream",
          "name": "stdout",
          "text": [
            "Help on method_descriptor:\n",
            "\n",
            "append(self, object, /)\n",
            "    Append object to the end of the list.\n",
            "\n"
          ]
        }
      ]
    },
    {
      "cell_type": "code",
      "source": [
        "help(list.insert)"
      ],
      "metadata": {
        "colab": {
          "base_uri": "https://localhost:8080/"
        },
        "id": "ElPZTbvYBMYx",
        "outputId": "ab8673e3-8871-4b4d-940d-293cae9b87c3"
      },
      "execution_count": 13,
      "outputs": [
        {
          "output_type": "stream",
          "name": "stdout",
          "text": [
            "Help on method_descriptor:\n",
            "\n",
            "insert(self, index, object, /)\n",
            "    Insert object before index.\n",
            "\n"
          ]
        }
      ]
    },
    {
      "cell_type": "markdown",
      "source": [
        "Append inserts an element to the end of the list, whereas insert method make use of index parameter to insert an element in the list."
      ],
      "metadata": {
        "id": "OuhN9CUPBQ1c"
      }
    },
    {
      "cell_type": "code",
      "source": [
        "my_list = [1, 2, 3, 5]\n",
        "\n",
        "append_6 = 6\n",
        "insert_4 = 4\n",
        "\n",
        "# append operation\n",
        "print(f\"Original List : {my_list}\")\n",
        "my_list.append(append_6)\n",
        "print(f\"Updated List : {my_list}\")\n",
        "\n",
        "# insert operation\n",
        "print(f\"Inserting value 4 at index no 3\")\n",
        "my_list.insert(3, insert_4,)\n",
        "print(f\"Updated List : {my_list}\")"
      ],
      "metadata": {
        "colab": {
          "base_uri": "https://localhost:8080/"
        },
        "id": "cfz2-fY8846F",
        "outputId": "e59e44a4-74fe-4f58-c825-8eafff071f4a"
      },
      "execution_count": 14,
      "outputs": [
        {
          "output_type": "stream",
          "name": "stdout",
          "text": [
            "Original List : [1, 2, 3, 5]\n",
            "Updated List : [1, 2, 3, 5, 6]\n",
            "Inserting value 4 at index no 3\n",
            "Updated List : [1, 2, 3, 4, 5, 6]\n"
          ]
        }
      ]
    },
    {
      "cell_type": "markdown",
      "source": [
        "## Question 11\n",
        "\n",
        "What are the two methods for removing items from a list?\n",
        "\n",
        "### Solution"
      ],
      "metadata": {
        "id": "0wb1Z2gA9f4j"
      }
    },
    {
      "cell_type": "code",
      "source": [
        "# define a list\n",
        "my_list = ['cat', 12, True, 213.23, \"dog\"]"
      ],
      "metadata": {
        "id": "DIdabEve88DT"
      },
      "execution_count": 15,
      "outputs": []
    },
    {
      "cell_type": "code",
      "source": [
        "# using remove()\n",
        "help(list.remove)"
      ],
      "metadata": {
        "colab": {
          "base_uri": "https://localhost:8080/"
        },
        "id": "WPwM88BJCbT5",
        "outputId": "e98b2a7a-810e-4ef5-b791-abe41aee74db"
      },
      "execution_count": 16,
      "outputs": [
        {
          "output_type": "stream",
          "name": "stdout",
          "text": [
            "Help on method_descriptor:\n",
            "\n",
            "remove(self, value, /)\n",
            "    Remove first occurrence of value.\n",
            "    \n",
            "    Raises ValueError if the value is not present.\n",
            "\n"
          ]
        }
      ]
    },
    {
      "cell_type": "code",
      "source": [
        "my_list.remove(True)\n",
        "my_list"
      ],
      "metadata": {
        "colab": {
          "base_uri": "https://localhost:8080/"
        },
        "id": "Ormr6L7mCf7X",
        "outputId": "f641ae4f-86ab-45c9-978e-55c00ecc0f35"
      },
      "execution_count": 17,
      "outputs": [
        {
          "output_type": "execute_result",
          "data": {
            "text/plain": [
              "['cat', 12, 213.23, 'dog']"
            ]
          },
          "metadata": {},
          "execution_count": 17
        }
      ]
    },
    {
      "cell_type": "code",
      "source": [
        "# using del, removes specific index\n",
        "del my_list[1]\n",
        "my_list"
      ],
      "metadata": {
        "colab": {
          "base_uri": "https://localhost:8080/"
        },
        "id": "9krb6h2VCj9V",
        "outputId": "657757d1-a5ce-49de-a368-08944077513f"
      },
      "execution_count": 18,
      "outputs": [
        {
          "output_type": "execute_result",
          "data": {
            "text/plain": [
              "['cat', 213.23, 'dog']"
            ]
          },
          "metadata": {},
          "execution_count": 18
        }
      ]
    },
    {
      "cell_type": "code",
      "source": [
        "# using pop\n",
        "help(list.pop)"
      ],
      "metadata": {
        "colab": {
          "base_uri": "https://localhost:8080/"
        },
        "id": "tzahDJeODECW",
        "outputId": "fd7e0249-cba1-4cf9-bc3f-a2d8050141f9"
      },
      "execution_count": 19,
      "outputs": [
        {
          "output_type": "stream",
          "name": "stdout",
          "text": [
            "Help on method_descriptor:\n",
            "\n",
            "pop(self, index=-1, /)\n",
            "    Remove and return item at index (default last).\n",
            "    \n",
            "    Raises IndexError if list is empty or index is out of range.\n",
            "\n"
          ]
        }
      ]
    },
    {
      "cell_type": "code",
      "source": [
        "my_list.pop(0) # removes first element\n",
        "my_list"
      ],
      "metadata": {
        "colab": {
          "base_uri": "https://localhost:8080/"
        },
        "id": "VtYsDKI2DJPj",
        "outputId": "be8b613f-f1c8-4999-cdd9-655ef3f88ac7"
      },
      "execution_count": 20,
      "outputs": [
        {
          "output_type": "execute_result",
          "data": {
            "text/plain": [
              "[213.23, 'dog']"
            ]
          },
          "metadata": {},
          "execution_count": 20
        }
      ]
    },
    {
      "cell_type": "markdown",
      "source": [
        "## Question 12\n",
        "\n",
        "Describe how list values and string values are identical.\n",
        "\n",
        "### Solution\n",
        "\n",
        "We can use loops, concatenation, replication methods, slicing to both list values and string values."
      ],
      "metadata": {
        "id": "veVVT-vg_yM7"
      }
    },
    {
      "cell_type": "code",
      "source": [
        "string = \"mycat\"\n",
        "my_list = ['m', 'y', 'c', 'a', 't']"
      ],
      "metadata": {
        "id": "ad5seN26Dwrw"
      },
      "execution_count": 21,
      "outputs": []
    },
    {
      "cell_type": "code",
      "source": [
        "# using length method\n",
        "len(string), len(my_list)"
      ],
      "metadata": {
        "colab": {
          "base_uri": "https://localhost:8080/"
        },
        "id": "U0Bjwg3mECbv",
        "outputId": "c87751de-26fb-4807-d7ba-55fb0ea413ce"
      },
      "execution_count": 22,
      "outputs": [
        {
          "output_type": "execute_result",
          "data": {
            "text/plain": [
              "(5, 5)"
            ]
          },
          "metadata": {},
          "execution_count": 22
        }
      ]
    },
    {
      "cell_type": "code",
      "source": [
        "# slicing first 2 characters\n",
        "string[:2], my_list[:2]"
      ],
      "metadata": {
        "colab": {
          "base_uri": "https://localhost:8080/"
        },
        "id": "RzL9xOrsEHUd",
        "outputId": "89bc372b-be0b-4edf-f195-d2c6f4008ea5"
      },
      "execution_count": 23,
      "outputs": [
        {
          "output_type": "execute_result",
          "data": {
            "text/plain": [
              "('my', ['m', 'y'])"
            ]
          },
          "metadata": {},
          "execution_count": 23
        }
      ]
    },
    {
      "cell_type": "code",
      "source": [
        "# check if t in string and list\n",
        "'t' in string, 't' in my_list"
      ],
      "metadata": {
        "colab": {
          "base_uri": "https://localhost:8080/"
        },
        "id": "nfYzwQzJENqU",
        "outputId": "b90646af-3be2-4e39-fb77-c9b6874fa98c"
      },
      "execution_count": 24,
      "outputs": [
        {
          "output_type": "execute_result",
          "data": {
            "text/plain": [
              "(True, True)"
            ]
          },
          "metadata": {},
          "execution_count": 24
        }
      ]
    },
    {
      "cell_type": "code",
      "source": [
        "# concatination\n",
        "string + 's', my_list + ['s']"
      ],
      "metadata": {
        "colab": {
          "base_uri": "https://localhost:8080/"
        },
        "id": "tWbfenaqEbZ8",
        "outputId": "b3b3862d-4838-4bba-dc6a-027d11027383"
      },
      "execution_count": 25,
      "outputs": [
        {
          "output_type": "execute_result",
          "data": {
            "text/plain": [
              "('mycats', ['m', 'y', 'c', 'a', 't', 's'])"
            ]
          },
          "metadata": {},
          "execution_count": 25
        }
      ]
    },
    {
      "cell_type": "markdown",
      "source": [
        "## Question 13\n",
        "\n",
        "What's the difference between tuples and lists?\n",
        "\n",
        "### Solution\n",
        "\n",
        "|Lists|Tuple|\n",
        "|--|--|\n",
        "|Mutable, values can be modified|Immutable, values cannot be modified.|\n",
        "|Better for insertion and deletion|Better for accessing value|"
      ],
      "metadata": {
        "id": "PxVxCQPIALtH"
      }
    },
    {
      "cell_type": "code",
      "source": [
        "my_list = [1,2,3,4]\n",
        "my_tuple = (1,2,3,4)"
      ],
      "metadata": {
        "id": "bN_uSGgrBJnA"
      },
      "execution_count": 26,
      "outputs": []
    },
    {
      "cell_type": "code",
      "source": [
        "my_list[0] = 100\n",
        "my_list"
      ],
      "metadata": {
        "colab": {
          "base_uri": "https://localhost:8080/"
        },
        "id": "0zF5R8hMF-cC",
        "outputId": "1f03ca34-f43f-4e80-a66f-5160e3323caa"
      },
      "execution_count": 27,
      "outputs": [
        {
          "output_type": "execute_result",
          "data": {
            "text/plain": [
              "[100, 2, 3, 4]"
            ]
          },
          "metadata": {},
          "execution_count": 27
        }
      ]
    },
    {
      "cell_type": "code",
      "source": [
        "my_tuple[0] = 100\n",
        "my_tuple"
      ],
      "metadata": {
        "colab": {
          "base_uri": "https://localhost:8080/",
          "height": 191
        },
        "id": "_vJLe-3wGCi-",
        "outputId": "b4b66918-ca2e-4854-d2c1-85e583bd458b"
      },
      "execution_count": 29,
      "outputs": [
        {
          "output_type": "error",
          "ename": "TypeError",
          "evalue": "ignored",
          "traceback": [
            "\u001b[0;31m---------------------------------------------------------------------------\u001b[0m",
            "\u001b[0;31mTypeError\u001b[0m                                 Traceback (most recent call last)",
            "\u001b[0;32m<ipython-input-29-a8a9829cdcc1>\u001b[0m in \u001b[0;36m<module>\u001b[0;34m()\u001b[0m\n\u001b[0;32m----> 1\u001b[0;31m \u001b[0mmy_tuple\u001b[0m\u001b[0;34m[\u001b[0m\u001b[0;36m0\u001b[0m\u001b[0;34m]\u001b[0m \u001b[0;34m=\u001b[0m \u001b[0;36m100\u001b[0m\u001b[0;34m\u001b[0m\u001b[0;34m\u001b[0m\u001b[0m\n\u001b[0m\u001b[1;32m      2\u001b[0m \u001b[0mmy_tuple\u001b[0m\u001b[0;34m\u001b[0m\u001b[0;34m\u001b[0m\u001b[0m\n",
            "\u001b[0;31mTypeError\u001b[0m: 'tuple' object does not support item assignment"
          ]
        }
      ]
    },
    {
      "cell_type": "code",
      "source": [
        "# size allocated in memory difference\n",
        "my_list.__sizeof__(), my_tuple.__sizeof__()"
      ],
      "metadata": {
        "colab": {
          "base_uri": "https://localhost:8080/"
        },
        "id": "t0RBLUT-GQUZ",
        "outputId": "717d28c0-af45-49cb-e715-a3bf4b3c37d5"
      },
      "execution_count": 30,
      "outputs": [
        {
          "output_type": "execute_result",
          "data": {
            "text/plain": [
              "(72, 56)"
            ]
          },
          "metadata": {},
          "execution_count": 30
        }
      ]
    },
    {
      "cell_type": "markdown",
      "source": [
        "## Question 14\n",
        "\n",
        "How do you type a tuple value that only contains the integer 42?\n",
        "\n",
        "### Solution"
      ],
      "metadata": {
        "id": "LI_GBeb6Bjua"
      }
    },
    {
      "cell_type": "code",
      "source": [
        "my_tuple = (42,)\n",
        "my_tuple, type(my_tuple)"
      ],
      "metadata": {
        "colab": {
          "base_uri": "https://localhost:8080/"
        },
        "id": "F6JE20MZG4jm",
        "outputId": "d4db8b58-2bb6-4891-8b5c-e5b1d34b0db6"
      },
      "execution_count": 31,
      "outputs": [
        {
          "output_type": "execute_result",
          "data": {
            "text/plain": [
              "((42,), tuple)"
            ]
          },
          "metadata": {},
          "execution_count": 31
        }
      ]
    },
    {
      "cell_type": "markdown",
      "source": [
        "## Question 15\n",
        "\n",
        "How do you get a list value's tuple form? How do you get a tuple value's list form?\n",
        "\n",
        "#### Solution"
      ],
      "metadata": {
        "id": "FjkQML99HQpk"
      }
    },
    {
      "cell_type": "code",
      "source": [
        "my_list = [1,2,3,4]\n",
        "print(tuple(my_list))"
      ],
      "metadata": {
        "colab": {
          "base_uri": "https://localhost:8080/"
        },
        "id": "R4wE8_vwHCBT",
        "outputId": "b2f15871-ce70-4df8-df9f-0874bb2c3d7d"
      },
      "execution_count": 32,
      "outputs": [
        {
          "output_type": "stream",
          "name": "stdout",
          "text": [
            "(1, 2, 3, 4)\n"
          ]
        }
      ]
    },
    {
      "cell_type": "code",
      "source": [
        "my_tuple = (1,2,3,4)\n",
        "print(list(my_tuple))"
      ],
      "metadata": {
        "colab": {
          "base_uri": "https://localhost:8080/"
        },
        "id": "ff4Z8LWNHd15",
        "outputId": "2ee2eadc-ae3e-4d72-a580-d16b9c4103b8"
      },
      "execution_count": 33,
      "outputs": [
        {
          "output_type": "stream",
          "name": "stdout",
          "text": [
            "[1, 2, 3, 4]\n"
          ]
        }
      ]
    },
    {
      "cell_type": "markdown",
      "source": [
        "## Question 16\n",
        "\n",
        "Variables that contain list values are not necessarily lists themselves. Instead, what do they contain?\n",
        "\n",
        "#### Solution\n",
        "\n",
        "Variables do not store values directly. \n",
        "\n",
        "Python variables work with references to objects representing the values. \n",
        "\n",
        "For example, we have \n",
        "\n",
        "a = [1,2,3]\n",
        "\n",
        "Python creates a new reference for a to point at the object representing the value [1,2,3] in the memory."
      ],
      "metadata": {
        "id": "qE14sJzRHpAt"
      }
    },
    {
      "cell_type": "markdown",
      "source": [
        "## Question 17\n",
        "\n",
        "How do you distinguish between copy.copy() and copy.deepcopy()?\n",
        "\n",
        "### Solution\n",
        "\n",
        "Let's understand by an example,"
      ],
      "metadata": {
        "id": "M1-RFUi6KFgj"
      }
    },
    {
      "cell_type": "code",
      "source": [
        "# import copy module\n",
        "import copy\n",
        "\n",
        "# initialize our list\n",
        "my_list = [1, [2, 3], 4]"
      ],
      "metadata": {
        "id": "gLQ5Ae_lKEhY"
      },
      "execution_count": 34,
      "outputs": []
    },
    {
      "cell_type": "code",
      "source": [
        "copy_list = copy.copy(my_list)\n",
        "\n",
        "print(id(my_list))\n",
        "print(id(copy_list))\n",
        "\n",
        "print(id(my_list[1]))\n",
        "print(id(copy_list[1]))"
      ],
      "metadata": {
        "colab": {
          "base_uri": "https://localhost:8080/"
        },
        "id": "8pJ-l1pXKT18",
        "outputId": "f81f2cdc-eaef-4321-ba6b-fa769381fadc"
      },
      "execution_count": 35,
      "outputs": [
        {
          "output_type": "stream",
          "name": "stdout",
          "text": [
            "139706859224912\n",
            "139706799779584\n",
            "139706799394160\n",
            "139706799394160\n"
          ]
        }
      ]
    },
    {
      "cell_type": "markdown",
      "source": [
        "copy_list becomes new object but my_list[1] is same object as copy_list[1]"
      ],
      "metadata": {
        "id": "OGLUUk4ZMte4"
      }
    },
    {
      "cell_type": "code",
      "source": [
        "deepcopy_list = copy.deepcopy(my_list)\n",
        "\n",
        "print(id(my_list))\n",
        "print(id(deepcopy_list))\n",
        "\n",
        "print(id(my_list[1]))\n",
        "print(id(deepcopy_list[1]))"
      ],
      "metadata": {
        "colab": {
          "base_uri": "https://localhost:8080/"
        },
        "id": "N21aAbD9KYP5",
        "outputId": "797dcdce-c9d6-4bbd-932e-d51dd6ec63c0"
      },
      "execution_count": 36,
      "outputs": [
        {
          "output_type": "stream",
          "name": "stdout",
          "text": [
            "139706859224912\n",
            "139706799405568\n",
            "139706799394160\n",
            "139706799406288\n"
          ]
        }
      ]
    },
    {
      "cell_type": "markdown",
      "source": [
        "deepcopy_list becomes new object and my_list[1] is new object"
      ],
      "metadata": {
        "id": "_cAaNGRXNGnM"
      }
    }
  ]
}