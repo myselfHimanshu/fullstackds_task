{
  "nbformat": 4,
  "nbformat_minor": 0,
  "metadata": {
    "orig_nbformat": 4,
    "language_info": {
      "name": "python",
      "version": "3.8.8",
      "mimetype": "text/x-python",
      "codemirror_mode": {
        "name": "ipython",
        "version": 3
      },
      "pygments_lexer": "ipython3",
      "nbconvert_exporter": "python",
      "file_extension": ".py"
    },
    "kernelspec": {
      "name": "python3",
      "display_name": "Python 3.8.8 64-bit ('base': conda)"
    },
    "interpreter": {
      "hash": "32004c3298a2e7fb08ce908835c9b26629c2a794a7626af23329d63295bbeafe"
    },
    "colab": {
      "name": "handson_02.ipynb",
      "provenance": [],
      "collapsed_sections": []
    }
  },
  "cells": [
    {
      "cell_type": "markdown",
      "metadata": {
        "id": "po5zPkqfvIXV"
      },
      "source": [
        "# Programming Assignment #002\n",
        "\n",
        "Below are the problem sets for basics python."
      ]
    },
    {
      "cell_type": "code",
      "metadata": {
        "colab": {
          "base_uri": "https://localhost:8080/"
        },
        "id": "A5Em1XX5vQZr",
        "outputId": "6449dd11-5853-42df-d438-33ed6fe1e73e"
      },
      "source": [
        "# checking python version\n",
        "!python --version"
      ],
      "execution_count": 1,
      "outputs": [
        {
          "output_type": "stream",
          "name": "stdout",
          "text": [
            "Python 3.7.12\n"
          ]
        }
      ]
    },
    {
      "cell_type": "markdown",
      "metadata": {
        "id": "I2NwJYE1vIXa"
      },
      "source": [
        "## Question 1\n",
        "\n",
        "Write a Python program to convert kilometers to miles?\n",
        "\n",
        "#### Solution"
      ]
    },
    {
      "cell_type": "code",
      "metadata": {
        "colab": {
          "base_uri": "https://localhost:8080/"
        },
        "id": "miycNiZevIXa",
        "outputId": "2104df8a-68dc-4ff8-cab7-24f0cf17d13a"
      },
      "source": [
        "# user input (kilometers)\n",
        "kms = float(input(\"Enter kilometers value\\t\"))\n",
        "\n",
        "# formula\n",
        "miles = kms * 0.62137\n",
        "\n",
        "print(f\"{kms}Kms is equivalent to {miles:.3f} miles\")"
      ],
      "execution_count": 4,
      "outputs": [
        {
          "output_type": "stream",
          "name": "stdout",
          "text": [
            "Enter kilometers value\t20\n",
            "20.0Kms is equivalent to 12.427 miles\n"
          ]
        }
      ]
    },
    {
      "cell_type": "markdown",
      "metadata": {
        "id": "3wXh8kuUvIXd"
      },
      "source": [
        "## Question 2\n",
        "\n",
        "Write a Python program to convert Celsius to Fahrenheit?\n",
        "\n",
        "#### Solution"
      ]
    },
    {
      "cell_type": "code",
      "metadata": {
        "colab": {
          "base_uri": "https://localhost:8080/"
        },
        "id": "pwxQUOmuvIXd",
        "outputId": "04848ae8-9f7f-4035-da85-2e6102aa8a33"
      },
      "source": [
        "# user input (celsius)\n",
        "c = float(input(\"Enter Celcius degrees\\t\"))\n",
        "\n",
        "# formula\n",
        "f = c * (9/5) + 32\n",
        "\n",
        "print(f\"{c}C is equivalent to {f:.3f}F\")"
      ],
      "execution_count": 5,
      "outputs": [
        {
          "output_type": "stream",
          "name": "stdout",
          "text": [
            "Enter Celcius degrees\t100\n",
            "100.0C is equivalent to 212.000 F\n"
          ]
        }
      ]
    },
    {
      "cell_type": "markdown",
      "metadata": {
        "id": "WkqxgP9_vIXe"
      },
      "source": [
        "## Question 3\n",
        "\n",
        "Write a Python program to display calendar?\n",
        "\n",
        "#### Solution"
      ]
    },
    {
      "cell_type": "code",
      "metadata": {
        "colab": {
          "base_uri": "https://localhost:8080/"
        },
        "id": "PdIUdumUvIXf",
        "outputId": "c4486c3b-3e9b-4af7-b3ac-3f3a4b14c416"
      },
      "source": [
        "# using built-in module\n",
        "import calendar\n",
        "\n",
        "# display month\n",
        "year = 2021\n",
        "month = 12\n",
        "\n",
        "print(calendar.month(year, month))"
      ],
      "execution_count": 6,
      "outputs": [
        {
          "output_type": "stream",
          "name": "stdout",
          "text": [
            "   December 2021\n",
            "Mo Tu We Th Fr Sa Su\n",
            "       1  2  3  4  5\n",
            " 6  7  8  9 10 11 12\n",
            "13 14 15 16 17 18 19\n",
            "20 21 22 23 24 25 26\n",
            "27 28 29 30 31\n",
            "\n"
          ]
        }
      ]
    },
    {
      "cell_type": "code",
      "metadata": {
        "colab": {
          "base_uri": "https://localhost:8080/"
        },
        "id": "rVDpbd_C4eCh",
        "outputId": "e57cf230-1df4-49ac-ab9c-d1990e04e1f9"
      },
      "source": [
        "# display full year\n",
        "year = 2022\n",
        "\n",
        "print(calendar.calendar(year))"
      ],
      "execution_count": 7,
      "outputs": [
        {
          "output_type": "stream",
          "name": "stdout",
          "text": [
            "                                  2022\n",
            "\n",
            "      January                   February                   March\n",
            "Mo Tu We Th Fr Sa Su      Mo Tu We Th Fr Sa Su      Mo Tu We Th Fr Sa Su\n",
            "                1  2          1  2  3  4  5  6          1  2  3  4  5  6\n",
            " 3  4  5  6  7  8  9       7  8  9 10 11 12 13       7  8  9 10 11 12 13\n",
            "10 11 12 13 14 15 16      14 15 16 17 18 19 20      14 15 16 17 18 19 20\n",
            "17 18 19 20 21 22 23      21 22 23 24 25 26 27      21 22 23 24 25 26 27\n",
            "24 25 26 27 28 29 30      28                        28 29 30 31\n",
            "31\n",
            "\n",
            "       April                      May                       June\n",
            "Mo Tu We Th Fr Sa Su      Mo Tu We Th Fr Sa Su      Mo Tu We Th Fr Sa Su\n",
            "             1  2  3                         1             1  2  3  4  5\n",
            " 4  5  6  7  8  9 10       2  3  4  5  6  7  8       6  7  8  9 10 11 12\n",
            "11 12 13 14 15 16 17       9 10 11 12 13 14 15      13 14 15 16 17 18 19\n",
            "18 19 20 21 22 23 24      16 17 18 19 20 21 22      20 21 22 23 24 25 26\n",
            "25 26 27 28 29 30         23 24 25 26 27 28 29      27 28 29 30\n",
            "                          30 31\n",
            "\n",
            "        July                     August                  September\n",
            "Mo Tu We Th Fr Sa Su      Mo Tu We Th Fr Sa Su      Mo Tu We Th Fr Sa Su\n",
            "             1  2  3       1  2  3  4  5  6  7                1  2  3  4\n",
            " 4  5  6  7  8  9 10       8  9 10 11 12 13 14       5  6  7  8  9 10 11\n",
            "11 12 13 14 15 16 17      15 16 17 18 19 20 21      12 13 14 15 16 17 18\n",
            "18 19 20 21 22 23 24      22 23 24 25 26 27 28      19 20 21 22 23 24 25\n",
            "25 26 27 28 29 30 31      29 30 31                  26 27 28 29 30\n",
            "\n",
            "      October                   November                  December\n",
            "Mo Tu We Th Fr Sa Su      Mo Tu We Th Fr Sa Su      Mo Tu We Th Fr Sa Su\n",
            "                1  2          1  2  3  4  5  6                1  2  3  4\n",
            " 3  4  5  6  7  8  9       7  8  9 10 11 12 13       5  6  7  8  9 10 11\n",
            "10 11 12 13 14 15 16      14 15 16 17 18 19 20      12 13 14 15 16 17 18\n",
            "17 18 19 20 21 22 23      21 22 23 24 25 26 27      19 20 21 22 23 24 25\n",
            "24 25 26 27 28 29 30      28 29 30                  26 27 28 29 30 31\n",
            "31\n",
            "\n"
          ]
        }
      ]
    },
    {
      "cell_type": "markdown",
      "metadata": {
        "id": "zZFmMP44vIXg"
      },
      "source": [
        "## Question 4\n",
        "\n",
        "Write a Python program to solve quadratic equation?\n",
        "\n",
        "#### Solution\n",
        "\n",
        "the main aim is to find the roots of the equation which is,\n",
        "\n",
        "$$ax^2 + bx + c$$\n",
        "\n",
        "where,\n",
        "a, b, and c are coefficient and real numbers and also $a ≠ 0$.\n",
        "\n",
        "Using below formula we find the roots of the equation,\n",
        "\n",
        "$$ x = \\frac{-b \\pm \\sqrt{b^2 - 4ac}}{2a} $$"
      ]
    },
    {
      "cell_type": "code",
      "metadata": {
        "colab": {
          "base_uri": "https://localhost:8080/"
        },
        "id": "_N9lPZjdvIXh",
        "outputId": "38c471ee-fa66-4d7c-953c-003e3e02c0b3"
      },
      "source": [
        "# user input two variables\n",
        "a = int(input(\"Input first number, (0 not allowed)\\t\"))    \n",
        "b = int(input(\"Input second number\\t\"))\n",
        "c = int(input(\"Input third number\\t\"))\n",
        "\n",
        "# calculate discriminant\n",
        "dis = (b**2) - (4*a*c)\n",
        "\n",
        "# finding 2 roots\n",
        "\n",
        "import cmath\n",
        "\n",
        "root1 = (-b + cmath.sqrt(dis))/(2*a)\n",
        "root2 = (-b - cmath.sqrt(dis))/(2*a)\n",
        "\n",
        "print(f\"Roots of equation {a}x^2 + {b}x + {c} are,\\n{root1}\\n{root2}\")"
      ],
      "execution_count": 10,
      "outputs": [
        {
          "output_type": "stream",
          "name": "stdout",
          "text": [
            "Input first number, (0 not allowed)\t1\n",
            "Input second number\t1\n",
            "Input third number\t1\n",
            "Roots of equation 1x^2 + 1x + 1 are,\n",
            "(-0.5+0.8660254037844386j)\n",
            "(-0.5-0.8660254037844386j)\n"
          ]
        }
      ]
    },
    {
      "cell_type": "markdown",
      "metadata": {
        "id": "eJoFmhWDvIXi"
      },
      "source": [
        "## Question 5\n",
        "\n",
        "Write a Python program to swap two variables without temp variable?\n",
        "\n",
        "#### Solution"
      ]
    },
    {
      "cell_type": "code",
      "metadata": {
        "colab": {
          "base_uri": "https://localhost:8080/"
        },
        "id": "8m6E0F3rvIXj",
        "outputId": "66a22240-f0f2-4f6f-e252-b7b0db07ae18"
      },
      "source": [
        "# user input two variables\n",
        "a = int(input(\"Input first number\\t\"))\n",
        "b = int(input(\"Input second number\\t\"))\n",
        "print(\"--------------------\")\n",
        "print(f\"Value of a = {a}, value of b = {b}\")\n",
        "\n",
        "# using tuple swap\n",
        "a, b = b, a\n",
        "\n",
        "print(f\"After Swapped Operation\\nValue of a = {a}, value of b = {b}\")"
      ],
      "execution_count": 9,
      "outputs": [
        {
          "output_type": "stream",
          "name": "stdout",
          "text": [
            "Input first number\t5\n",
            "Input second number\t77\n",
            "--------------------\n",
            "Value of a = 5, value of b = 77\n",
            "After Swapped Operation\n",
            "Value of a = 77, value of b = 5\n"
          ]
        }
      ]
    },
    {
      "cell_type": "code",
      "metadata": {
        "id": "0glSlrrevIXj"
      },
      "source": [
        ""
      ],
      "execution_count": null,
      "outputs": []
    }
  ]
}