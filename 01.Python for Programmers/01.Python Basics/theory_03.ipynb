{
  "nbformat": 4,
  "nbformat_minor": 0,
  "metadata": {
    "orig_nbformat": 4,
    "language_info": {
      "name": "python",
      "version": "3.8.8",
      "mimetype": "text/x-python",
      "codemirror_mode": {
        "name": "ipython",
        "version": 3
      },
      "pygments_lexer": "ipython3",
      "nbconvert_exporter": "python",
      "file_extension": ".py"
    },
    "kernelspec": {
      "name": "python3",
      "display_name": "Python 3.8.8 64-bit ('base': conda)"
    },
    "interpreter": {
      "hash": "32004c3298a2e7fb08ce908835c9b26629c2a794a7626af23329d63295bbeafe"
    },
    "colab": {
      "name": "theory_03.ipynb",
      "provenance": [],
      "collapsed_sections": []
    }
  },
  "cells": [
    {
      "cell_type": "markdown",
      "metadata": {
        "id": "po5zPkqfvIXV"
      },
      "source": [
        "# Assignment #003\n",
        "\n",
        "Below are the problem sets for basics python."
      ]
    },
    {
      "cell_type": "code",
      "metadata": {
        "colab": {
          "base_uri": "https://localhost:8080/"
        },
        "id": "A5Em1XX5vQZr",
        "outputId": "a59d0477-d9e1-4527-ee0b-5804da53cefc"
      },
      "source": [
        "# checking python version\n",
        "!python --version"
      ],
      "execution_count": 1,
      "outputs": [
        {
          "output_type": "stream",
          "name": "stdout",
          "text": [
            "Python 3.7.12\n"
          ]
        }
      ]
    },
    {
      "cell_type": "markdown",
      "metadata": {
        "id": "I2NwJYE1vIXa"
      },
      "source": [
        "## Question 1\n",
        "\n",
        "Why are functions advantageous to have in your programs?\n",
        "\n",
        "#### Solution\n",
        "\n",
        "**Functions** are reusable pieces of programs.\n",
        "\n",
        "Functions allow us to give a name to a block of statements, allowing us to run that block using the specified function name anywhere in our application and any number of times.\n",
        "\n",
        "Primary benefits are:\n",
        "\n",
        "- **Reusability** : A function can be used again and again.\n",
        "- **Simplicity** : Functions are easy to use and make code readable. We only need to know the purpose of a function and when to use it without focusing on inner working."
      ]
    },
    {
      "cell_type": "code",
      "metadata": {
        "colab": {
          "base_uri": "https://localhost:8080/"
        },
        "id": "miycNiZevIXa",
        "outputId": "16e1047e-c61e-4dc2-be2e-af25ca52d838"
      },
      "source": [
        "# define a function\n",
        "\n",
        "def cubeofNumber(x):\n",
        "    return x**3\n",
        "\n",
        "print(f\"Cube of 2 is : {cubeofNumber(2)}\")\n",
        "print(f\"Cube of 4 is : {cubeofNumber(4)}\") # calling same function again"
      ],
      "execution_count": 2,
      "outputs": [
        {
          "output_type": "stream",
          "name": "stdout",
          "text": [
            "Cube of 2 is : 8\n",
            "Cube of 4 is : 64\n"
          ]
        }
      ]
    },
    {
      "cell_type": "markdown",
      "metadata": {
        "id": "3wXh8kuUvIXd"
      },
      "source": [
        "## Question 2\n",
        "\n",
        "When does the code in a function run: when it's specified or when it's called?\n",
        "\n",
        "#### Solution"
      ]
    },
    {
      "cell_type": "code",
      "metadata": {
        "id": "pwxQUOmuvIXd"
      },
      "source": [
        "# specify a function\n",
        "\n",
        "'''\n",
        "we use `def <function-name>():`\n",
        "to specify a function.\n",
        "'''\n",
        "\n",
        "def sqrofNumber(x):\n",
        "    \"\"\"\n",
        "    returns square of number\n",
        "    \"\"\"\n",
        "    return x**2\n",
        "\n"
      ],
      "execution_count": 3,
      "outputs": []
    },
    {
      "cell_type": "markdown",
      "metadata": {
        "id": "lXc_9fb2afbN"
      },
      "source": [
        "In above cell we have defined our function. The code inside the function will not get executed unless we call the function with specified parameters.\n",
        "\n",
        "Calling a function,"
      ]
    },
    {
      "cell_type": "code",
      "metadata": {
        "colab": {
          "base_uri": "https://localhost:8080/"
        },
        "id": "Rv_FIHUfatMF",
        "outputId": "352fca75-b836-47b5-824c-d753a31363fe"
      },
      "source": [
        "sqrofNumber(44)"
      ],
      "execution_count": 4,
      "outputs": [
        {
          "output_type": "execute_result",
          "data": {
            "text/plain": [
              "1936"
            ]
          },
          "metadata": {},
          "execution_count": 4
        }
      ]
    },
    {
      "cell_type": "markdown",
      "metadata": {
        "id": "oFUZUtasax3X"
      },
      "source": [
        "A function is called as per the requirements of a task."
      ]
    },
    {
      "cell_type": "markdown",
      "metadata": {
        "id": "WkqxgP9_vIXe"
      },
      "source": [
        "## Question 3\n",
        "\n",
        "What statement creates a function?\n",
        "\n",
        "#### Solution\n",
        "\n",
        "A Function can be defined using the def keyword in the following format:\n",
        "\n",
        "```\n",
        "def function_name(parameters):\n",
        "    \"\"\"\n",
        "    define a set of operations\n",
        "    \"\"\"\n",
        "```\n",
        "\n",
        "- The function name is what we use to identify the function.\n",
        "- The parameters of a function are the inputs for that function. These inputs can be used within the functions for computations. Parameters are optional.\n",
        "- The body contains the set of operations."
      ]
    },
    {
      "cell_type": "code",
      "metadata": {
        "colab": {
          "base_uri": "https://localhost:8080/"
        },
        "id": "PdIUdumUvIXf",
        "outputId": "1160ef4c-20c7-4b5b-f558-dcdbdbc2a998"
      },
      "source": [
        "# function without use of parameters\n",
        "def greet():            # define a function using def keyword\n",
        "    print(\"hello\")      # print hello\n",
        "\n",
        "greet()                 # calling a function"
      ],
      "execution_count": 5,
      "outputs": [
        {
          "output_type": "stream",
          "name": "stdout",
          "text": [
            "hello\n"
          ]
        }
      ]
    },
    {
      "cell_type": "code",
      "source": [
        "# function with use of parameters\n",
        "def addTwoValues(x1, x2):\n",
        "    return x1+x2\n",
        "\n",
        "addTwoValues(2, -10)"
      ],
      "metadata": {
        "colab": {
          "base_uri": "https://localhost:8080/"
        },
        "id": "VGVLK49YgdLZ",
        "outputId": "821ac884-7c37-423a-ccb7-db9ccaeff86e"
      },
      "execution_count": 6,
      "outputs": [
        {
          "output_type": "execute_result",
          "data": {
            "text/plain": [
              "-8"
            ]
          },
          "metadata": {},
          "execution_count": 6
        }
      ]
    },
    {
      "cell_type": "markdown",
      "metadata": {
        "id": "zZFmMP44vIXg"
      },
      "source": [
        "## Question 4\n",
        "\n",
        "What is the difference between a function and a function call?\n",
        "\n",
        "#### Solution\n",
        "\n",
        "A function is a set of instructions. We can define a function but the instructions won't be executed until we call the function and tell compiler to execute the instruction of the defined function."
      ]
    },
    {
      "cell_type": "markdown",
      "source": [
        "## Question 5\n",
        "\n",
        "How many global scopes are there in a Python program? Home many local scopes?\n",
        "\n",
        "#### Solution\n",
        "\n",
        "A variable scope determines where our variables can be accessed within the program and what values are stored inside of those variables.\n",
        "\n",
        "There are 4 types of scope,\n",
        "- Local\n",
        "- Enclosing\n",
        "- Global\n",
        "- Built-in\n",
        "\n",
        "**Local** : variables that are defined inside of a function.\n",
        "\n",
        "**Enclosing** : variables in local scope of enclosed function.\n",
        "\n",
        "**Global** : variables are defined at top level of a program or defined using `GLOBAL` keyword.\n",
        "\n",
        "**Built-in** : keywords, functions that are built in Python.\n",
        "\n",
        "LEGB is the order in which a variable is assigned, the iterpretor checks variable first in local scope, then enclosing scope, then global scope and then in built-in scope."
      ],
      "metadata": {
        "id": "_xcU-qZohHV2"
      }
    },
    {
      "cell_type": "code",
      "metadata": {
        "id": "L7XQ4VtV-kXd",
        "colab": {
          "base_uri": "https://localhost:8080/"
        },
        "outputId": "3b37ee4a-e7e1-48b7-e1ff-088efac582b7"
      },
      "source": [
        "# global scope\n",
        "x = \"_global_x_\"\n",
        "\n",
        "def test():\n",
        "    y = \"_local_y_\" # local to test function\n",
        "    print(x)\n",
        "    print(y)\n",
        "\n",
        "test()\n",
        "# print(y)    # Throws an error"
      ],
      "execution_count": 7,
      "outputs": [
        {
          "output_type": "stream",
          "name": "stdout",
          "text": [
            "_global_x_\n",
            "_local_y_\n"
          ]
        }
      ]
    },
    {
      "cell_type": "markdown",
      "source": [
        "What's happening?\n",
        "\n",
        "when we call test() at line 9, line no 6 print(x) searches for x in local scope of test() function, it doesn't find that in local scope.\n",
        "\n",
        "Then it finds in enclosing scope, there is no enclosing scope. Then it finds in global scope, and it does find out x assigned at line no 2. Therefore it prints value of x.\n",
        "\n",
        "Now, we got an error for line no 10. Because y scope is defined under function test and is local to that function and is not being accessible outside of that function. Therefore it throws an error.\n",
        "\n",
        "**Answer of the question,**\n",
        "\n",
        "We have only 1 global scope variable for a program and can have many local scope variables as per the number of functions we have defined.\n",
        "\n",
        "Note, a local variable is only created when a function is called. Declaring a local variable doesn't mean it has been assigned a memory location."
      ],
      "metadata": {
        "id": "rl6pIyKm2Cb0"
      }
    },
    {
      "cell_type": "markdown",
      "source": [
        "## Question 6\n",
        "\n",
        "What happens to variables in a local scope when the function call returns?\n",
        "\n",
        "### Solution\n",
        "\n",
        "When the execution of the function returns, the local variables in the function scope are destroyed. \n",
        "\n",
        "Even the parameters of the function are local to the scope of the function."
      ],
      "metadata": {
        "id": "ZgmRYxXI3Qft"
      }
    },
    {
      "cell_type": "markdown",
      "source": [
        "## Question 7\n",
        "\n",
        "What is the concept of a return value? Is it possible to have a return value in an expression?\n",
        "\n",
        "### Solution\n",
        "\n",
        "The return statement is used to return values from the function. Any remaining lines of code block after the return statement are not executed."
      ],
      "metadata": {
        "id": "FaapU6OC37hH"
      }
    },
    {
      "cell_type": "code",
      "source": [
        "def add_values(x1, x2):\n",
        "    sum = x1 + x2\n",
        "    return sum  # explicit return statement\n",
        "\n",
        "add_values(2, 11) "
      ],
      "metadata": {
        "colab": {
          "base_uri": "https://localhost:8080/"
        },
        "id": "eDQIIXJei4UK",
        "outputId": "c620abe4-c127-4702-91df-c42f27178152"
      },
      "execution_count": 8,
      "outputs": [
        {
          "output_type": "execute_result",
          "data": {
            "text/plain": [
              "13"
            ]
          },
          "metadata": {},
          "execution_count": 8
        }
      ]
    },
    {
      "cell_type": "markdown",
      "source": [
        "We can also return an expression as return value"
      ],
      "metadata": {
        "id": "KrCTa7qo5T5w"
      }
    },
    {
      "cell_type": "code",
      "source": [
        "def add_values(x1, x2):\n",
        "    return x1 + x2  # an expression is evaluated first and then value is returned\n",
        "\n",
        "add_values(2, 11)"
      ],
      "metadata": {
        "colab": {
          "base_uri": "https://localhost:8080/"
        },
        "id": "PYrmxq0I5QdZ",
        "outputId": "27cf0fa5-743d-4ca4-9278-cfc463192342"
      },
      "execution_count": 9,
      "outputs": [
        {
          "output_type": "execute_result",
          "data": {
            "text/plain": [
              "13"
            ]
          },
          "metadata": {},
          "execution_count": 9
        }
      ]
    },
    {
      "cell_type": "markdown",
      "source": [
        "## Question 8\n",
        "\n",
        "If a function does not have a return statement, what is the return value of a call to that function?\n",
        "\n",
        "### Solution\n",
        "\n",
        "We gonna check it using code,"
      ],
      "metadata": {
        "id": "Ytd1RQhU5q-9"
      }
    },
    {
      "cell_type": "code",
      "source": [
        "def add_values(x1, x2):\n",
        "    sum = x1 + x2\n",
        "\n",
        "print(add_values(2, 11))\n",
        "print(type(add_values(2, 11)))"
      ],
      "metadata": {
        "colab": {
          "base_uri": "https://localhost:8080/"
        },
        "id": "A9GZGBiW5qZP",
        "outputId": "f082ee43-79bd-431a-b1ae-f1aef46ef16f"
      },
      "execution_count": 10,
      "outputs": [
        {
          "output_type": "stream",
          "name": "stdout",
          "text": [
            "None\n",
            "<class 'NoneType'>\n"
          ]
        }
      ]
    },
    {
      "cell_type": "markdown",
      "source": [
        "As we can see if there is no explicit return statement, the function return `None`."
      ],
      "metadata": {
        "id": "_LEteLtB59wy"
      }
    },
    {
      "cell_type": "markdown",
      "source": [
        "## Question 9\n",
        "\n",
        "How do you make a function variable refer to the global variable?\n",
        "\n",
        "### Solution\n",
        "\n",
        "We use `global` keyword before a variable to tell interpreter inside a function that we are using a global variable.\n",
        "\n",
        "We use this keyword if we have to modify the global variable inside a function."
      ],
      "metadata": {
        "id": "89ONj3Tu6J-R"
      }
    },
    {
      "cell_type": "code",
      "source": [
        "# global variable\n",
        "total_marks = 100\n",
        "\n",
        "def test():\n",
        "    global total_marks\n",
        "    if total_marks>34:\n",
        "        total_marks = 35\n",
        "\n",
        "print(f'Total marks : {total_marks}')\n",
        "\n",
        "# call function\n",
        "test()\n",
        "\n",
        "print(f'Total marks : {total_marks}')"
      ],
      "metadata": {
        "colab": {
          "base_uri": "https://localhost:8080/"
        },
        "id": "2DAT5m2K5bwU",
        "outputId": "1f966d95-f707-425f-ef10-58ae268571a1"
      },
      "execution_count": 11,
      "outputs": [
        {
          "output_type": "stream",
          "name": "stdout",
          "text": [
            "Total marks : 100\n",
            "Total marks : 35\n"
          ]
        }
      ]
    },
    {
      "cell_type": "markdown",
      "source": [
        "## Question 10\n",
        "\n",
        "What is the data type of `None`?\n",
        "\n",
        "### Solution"
      ],
      "metadata": {
        "id": "4r2j09VW8WSo"
      }
    },
    {
      "cell_type": "code",
      "source": [
        "help(None)"
      ],
      "metadata": {
        "colab": {
          "base_uri": "https://localhost:8080/"
        },
        "id": "7g22qLqJ7bMS",
        "outputId": "0d578eb7-c80d-488e-983e-b9803787e4f0"
      },
      "execution_count": 12,
      "outputs": [
        {
          "output_type": "stream",
          "name": "stdout",
          "text": [
            "Help on NoneType object:\n",
            "\n",
            "class NoneType(object)\n",
            " |  Methods defined here:\n",
            " |  \n",
            " |  __bool__(self, /)\n",
            " |      self != 0\n",
            " |  \n",
            " |  __repr__(self, /)\n",
            " |      Return repr(self).\n",
            " |  \n",
            " |  ----------------------------------------------------------------------\n",
            " |  Static methods defined here:\n",
            " |  \n",
            " |  __new__(*args, **kwargs) from builtins.type\n",
            " |      Create and return a new object.  See help(type) for accurate signature.\n",
            "\n"
          ]
        }
      ]
    },
    {
      "cell_type": "code",
      "source": [
        "type(None)"
      ],
      "metadata": {
        "colab": {
          "base_uri": "https://localhost:8080/"
        },
        "id": "cfz2-fY8846F",
        "outputId": "5bf49c97-2a55-4a37-f2c2-4edb0a3b9984"
      },
      "execution_count": 13,
      "outputs": [
        {
          "output_type": "execute_result",
          "data": {
            "text/plain": [
              "NoneType"
            ]
          },
          "metadata": {},
          "execution_count": 13
        }
      ]
    },
    {
      "cell_type": "markdown",
      "source": [
        "`None` keyword is an object of data type `NoneType`.\n",
        "\n",
        "Think it as of, we have a `NoneType` class and it has only one object that is `None` and `None` can be assigned to any object. "
      ],
      "metadata": {
        "id": "sOlgVZM489My"
      }
    },
    {
      "cell_type": "markdown",
      "source": [
        "## Question 11\n",
        "\n",
        "What does the sentence import areallyourpetsnamederic do?\n",
        "\n",
        "### Solution\n",
        "\n",
        "This statement imports a module `areallyourpetsnamederic`, but as we see below there is no module named `areallyourpetsnamederic` in Python."
      ],
      "metadata": {
        "id": "0wb1Z2gA9f4j"
      }
    },
    {
      "cell_type": "code",
      "source": [
        "import areallyourpetsnamederic"
      ],
      "metadata": {
        "colab": {
          "base_uri": "https://localhost:8080/",
          "height": 321
        },
        "id": "DIdabEve88DT",
        "outputId": "6ea17fe5-74fd-4eb4-aaff-c0fa6981db4f"
      },
      "execution_count": 14,
      "outputs": [
        {
          "output_type": "error",
          "ename": "ModuleNotFoundError",
          "evalue": "ignored",
          "traceback": [
            "\u001b[0;31m---------------------------------------------------------------------------\u001b[0m",
            "\u001b[0;31mModuleNotFoundError\u001b[0m                       Traceback (most recent call last)",
            "\u001b[0;32m<ipython-input-14-b1ea9cb2228f>\u001b[0m in \u001b[0;36m<module>\u001b[0;34m()\u001b[0m\n\u001b[0;32m----> 1\u001b[0;31m \u001b[0;32mimport\u001b[0m \u001b[0mareallyourpetsnamederic\u001b[0m\u001b[0;34m\u001b[0m\u001b[0;34m\u001b[0m\u001b[0m\n\u001b[0m",
            "\u001b[0;31mModuleNotFoundError\u001b[0m: No module named 'areallyourpetsnamederic'",
            "",
            "\u001b[0;31m---------------------------------------------------------------------------\u001b[0;32m\nNOTE: If your import is failing due to a missing package, you can\nmanually install dependencies using either !pip or !apt.\n\nTo view examples of installing some common dependencies, click the\n\"Open Examples\" button below.\n\u001b[0;31m---------------------------------------------------------------------------\u001b[0m\n"
          ],
          "errorDetails": {
            "actions": [
              {
                "action": "open_url",
                "actionText": "Open Examples",
                "url": "/notebooks/snippets/importing_libraries.ipynb"
              }
            ]
          }
        }
      ]
    },
    {
      "cell_type": "markdown",
      "source": [
        "## Question 12\n",
        "\n",
        "If you had a bacon() feature in a spam module, what would you call it after importing spam?\n",
        "\n",
        "### Solution\n",
        "\n",
        "Any function in spam module can be called using format,\n",
        "\n",
        "`spam.<function-name>()`\n",
        "\n",
        "Therefore, bacon feature can be called using,\n",
        "\n",
        "`spam.bacon()`"
      ],
      "metadata": {
        "id": "veVVT-vg_yM7"
      }
    },
    {
      "cell_type": "markdown",
      "source": [
        "## Question 13\n",
        "\n",
        "What can you do to save a programme from crashing if it encounters an error?\n",
        "\n",
        "### Solution\n",
        "\n",
        "We can use try statement to test a code block and if it encounters an error an except block handles the error which avoids crashing a program."
      ],
      "metadata": {
        "id": "PxVxCQPIALtH"
      }
    },
    {
      "cell_type": "code",
      "source": [
        "# without using try/except\n",
        "\n",
        "def division(x1, x2):\n",
        "    print(x1/x2)\n",
        "    \n",
        "division(10, 0)"
      ],
      "metadata": {
        "colab": {
          "base_uri": "https://localhost:8080/",
          "height": 338
        },
        "id": "bN_uSGgrBJnA",
        "outputId": "a183644e-585e-48a8-9beb-baebf9674ee1"
      },
      "execution_count": 15,
      "outputs": [
        {
          "output_type": "error",
          "ename": "ZeroDivisionError",
          "evalue": "ignored",
          "traceback": [
            "\u001b[0;31m---------------------------------------------------------------------------\u001b[0m",
            "\u001b[0;31mZeroDivisionError\u001b[0m                         Traceback (most recent call last)",
            "\u001b[0;32m<ipython-input-15-66b824579896>\u001b[0m in \u001b[0;36m<module>\u001b[0;34m()\u001b[0m\n\u001b[1;32m      4\u001b[0m     \u001b[0mprint\u001b[0m\u001b[0;34m(\u001b[0m\u001b[0mx1\u001b[0m\u001b[0;34m/\u001b[0m\u001b[0mx2\u001b[0m\u001b[0;34m)\u001b[0m\u001b[0;34m\u001b[0m\u001b[0;34m\u001b[0m\u001b[0m\n\u001b[1;32m      5\u001b[0m \u001b[0;34m\u001b[0m\u001b[0m\n\u001b[0;32m----> 6\u001b[0;31m \u001b[0mdivision\u001b[0m\u001b[0;34m(\u001b[0m\u001b[0;36m10\u001b[0m\u001b[0;34m,\u001b[0m \u001b[0;36m0\u001b[0m\u001b[0;34m)\u001b[0m\u001b[0;34m\u001b[0m\u001b[0;34m\u001b[0m\u001b[0m\n\u001b[0m",
            "\u001b[0;32m<ipython-input-15-66b824579896>\u001b[0m in \u001b[0;36mdivision\u001b[0;34m(x1, x2)\u001b[0m\n\u001b[1;32m      2\u001b[0m \u001b[0;34m\u001b[0m\u001b[0m\n\u001b[1;32m      3\u001b[0m \u001b[0;32mdef\u001b[0m \u001b[0mdivision\u001b[0m\u001b[0;34m(\u001b[0m\u001b[0mx1\u001b[0m\u001b[0;34m,\u001b[0m \u001b[0mx2\u001b[0m\u001b[0;34m)\u001b[0m\u001b[0;34m:\u001b[0m\u001b[0;34m\u001b[0m\u001b[0;34m\u001b[0m\u001b[0m\n\u001b[0;32m----> 4\u001b[0;31m     \u001b[0mprint\u001b[0m\u001b[0;34m(\u001b[0m\u001b[0mx1\u001b[0m\u001b[0;34m/\u001b[0m\u001b[0mx2\u001b[0m\u001b[0;34m)\u001b[0m\u001b[0;34m\u001b[0m\u001b[0;34m\u001b[0m\u001b[0m\n\u001b[0m\u001b[1;32m      5\u001b[0m \u001b[0;34m\u001b[0m\u001b[0m\n\u001b[1;32m      6\u001b[0m \u001b[0mdivision\u001b[0m\u001b[0;34m(\u001b[0m\u001b[0;36m10\u001b[0m\u001b[0;34m,\u001b[0m \u001b[0;36m0\u001b[0m\u001b[0;34m)\u001b[0m\u001b[0;34m\u001b[0m\u001b[0;34m\u001b[0m\u001b[0m\n",
            "\u001b[0;31mZeroDivisionError\u001b[0m: division by zero"
          ]
        }
      ]
    },
    {
      "cell_type": "markdown",
      "source": [
        "The above program crashed!!!"
      ],
      "metadata": {
        "id": "m8ZrvnR9BP6J"
      }
    },
    {
      "cell_type": "code",
      "source": [
        "# Using try/except\n",
        "\n",
        "def division(x1, x2):\n",
        "    try:\n",
        "        print(x1/x2)\n",
        "    except Exception as e:\n",
        "        print(Exception, e)\n",
        "\n",
        "division(10, 0)"
      ],
      "metadata": {
        "colab": {
          "base_uri": "https://localhost:8080/"
        },
        "id": "Ieb9UKu0-2tw",
        "outputId": "4164fa78-58bc-42f7-b883-38ee2f04d7e7"
      },
      "execution_count": 16,
      "outputs": [
        {
          "output_type": "stream",
          "name": "stdout",
          "text": [
            "<class 'Exception'> division by zero\n"
          ]
        }
      ]
    },
    {
      "cell_type": "markdown",
      "source": [
        "## Question 14\n",
        "\n",
        "What is the purpose of the try clause? What is the purpose of the except clause?\n",
        "\n",
        "### Solution\n",
        "\n",
        "As from the above example, the code block that can cause an error is handled with try/except clause without crashing of program.\n",
        "\n",
        "If try block does not execute successfully the program will run except block."
      ],
      "metadata": {
        "id": "LI_GBeb6Bjua"
      }
    }
  ]
}