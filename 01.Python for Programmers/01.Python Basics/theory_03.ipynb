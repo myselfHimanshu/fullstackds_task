{
  "nbformat": 4,
  "nbformat_minor": 0,
  "metadata": {
    "orig_nbformat": 4,
    "language_info": {
      "name": "python",
      "version": "3.8.8",
      "mimetype": "text/x-python",
      "codemirror_mode": {
        "name": "ipython",
        "version": 3
      },
      "pygments_lexer": "ipython3",
      "nbconvert_exporter": "python",
      "file_extension": ".py"
    },
    "kernelspec": {
      "name": "python3",
      "display_name": "Python 3.8.8 64-bit ('base': conda)"
    },
    "interpreter": {
      "hash": "32004c3298a2e7fb08ce908835c9b26629c2a794a7626af23329d63295bbeafe"
    },
    "colab": {
      "name": "theory_03.ipynb",
      "provenance": [],
      "collapsed_sections": []
    }
  },
  "cells": [
    {
      "cell_type": "markdown",
      "metadata": {
        "id": "po5zPkqfvIXV"
      },
      "source": [
        "# Assignment #003\n",
        "\n",
        "Below are the problem sets for basics python."
      ]
    },
    {
      "cell_type": "code",
      "metadata": {
        "colab": {
          "base_uri": "https://localhost:8080/"
        },
        "id": "A5Em1XX5vQZr",
        "outputId": "628486e1-0be2-44eb-eb38-80025431fd0c"
      },
      "source": [
        "# checking python version\n",
        "!python --version"
      ],
      "execution_count": 1,
      "outputs": [
        {
          "output_type": "stream",
          "name": "stdout",
          "text": [
            "Python 3.7.12\n"
          ]
        }
      ]
    },
    {
      "cell_type": "markdown",
      "metadata": {
        "id": "I2NwJYE1vIXa"
      },
      "source": [
        "## Question 1\n",
        "\n",
        "Why are functions advantageous to have in your programs?\n",
        "\n",
        "#### Solution\n",
        "\n",
        "**Functions** are reusable pieces of programs.\n",
        "\n",
        "Functions allow us to give a name to a block of statements, allowing us to run that block using the specified name anywhere in our application and any number of times.\n",
        "\n",
        "\n",
        "Primary benefits are:\n",
        "\n",
        "- Reusability : A function can be used again and again.\n",
        "- Simplicity : Functions are easy to use and make code readable. We only need to know the purpose of a function and when to use it without focusing on inner working."
      ]
    },
    {
      "cell_type": "code",
      "metadata": {
        "colab": {
          "base_uri": "https://localhost:8080/"
        },
        "id": "miycNiZevIXa",
        "outputId": "24f6e7bd-7a25-431b-b95d-9d520be96741"
      },
      "source": [
        "# define a function\n",
        "\n",
        "def cubeofNumber(x):\n",
        "    return x**3\n",
        "\n",
        "print(f\"Cube of 2 is : {cubeofNumber(2)}\")\n",
        "print(f\"Cube of 4 is : {cubeofNumber(4)}\") # calling same function again"
      ],
      "execution_count": 2,
      "outputs": [
        {
          "output_type": "stream",
          "name": "stdout",
          "text": [
            "Cube of 2 is : 8\n",
            "Cube of 4 is : 64\n"
          ]
        }
      ]
    },
    {
      "cell_type": "markdown",
      "metadata": {
        "id": "3wXh8kuUvIXd"
      },
      "source": [
        "## Question 2\n",
        "\n",
        "When does the code in a function run: when it's specified or when it's called?\n",
        "\n",
        "#### Solution"
      ]
    },
    {
      "cell_type": "code",
      "metadata": {
        "id": "pwxQUOmuvIXd"
      },
      "source": [
        "# specify a function\n",
        "\n",
        "import math\n",
        "def sqrtofNumber(x):\n",
        "    \"\"\"\n",
        "    returns square root of number\n",
        "    \"\"\"\n",
        "    return math.sqrt(x)\n",
        "\n"
      ],
      "execution_count": 3,
      "outputs": []
    },
    {
      "cell_type": "markdown",
      "metadata": {
        "id": "lXc_9fb2afbN"
      },
      "source": [
        "In above cell we have defined our function. The code inside the function will not get executed unless we call the function.\n",
        "\n",
        "Calling a function,"
      ]
    },
    {
      "cell_type": "code",
      "metadata": {
        "colab": {
          "base_uri": "https://localhost:8080/"
        },
        "id": "Rv_FIHUfatMF",
        "outputId": "abba5a88-ecaf-4d2e-ccea-5fd93b19c8d3"
      },
      "source": [
        "sqrtofNumber(44)"
      ],
      "execution_count": 4,
      "outputs": [
        {
          "output_type": "execute_result",
          "data": {
            "text/plain": [
              "6.6332495807108"
            ]
          },
          "metadata": {},
          "execution_count": 4
        }
      ]
    },
    {
      "cell_type": "markdown",
      "metadata": {
        "id": "oFUZUtasax3X"
      },
      "source": [
        "A function is called as per the requirements of a task."
      ]
    },
    {
      "cell_type": "markdown",
      "metadata": {
        "id": "WkqxgP9_vIXe"
      },
      "source": [
        "## Question 3\n",
        "\n",
        "What statement creates a function?\n",
        "\n",
        "#### Solution\n",
        "\n",
        "A Function can be defined using the def keyword in the following format:\n",
        "\n",
        "```\n",
        "def function_name(parameters):\n",
        "    \"\"\"\n",
        "    define a set of operations\n",
        "    \"\"\"\n",
        "```\n",
        "\n",
        "- The function name is what we use to identify the function.\n",
        "- The parameters of a function are the inputs for that function. These inputs can be used within the functions. Parameters are optional.\n",
        "- The body contains the set of operations."
      ]
    },
    {
      "cell_type": "code",
      "metadata": {
        "colab": {
          "base_uri": "https://localhost:8080/"
        },
        "id": "PdIUdumUvIXf",
        "outputId": "5c5be7e5-6833-4d0e-cf60-6b3b5495d44a"
      },
      "source": [
        "def greet():            # define a function using def keyword\n",
        "    print(\"hello\")      # print hello\n",
        "\n",
        "greet()                 # calling a function"
      ],
      "execution_count": 5,
      "outputs": [
        {
          "output_type": "stream",
          "name": "stdout",
          "text": [
            "hello\n"
          ]
        }
      ]
    },
    {
      "cell_type": "markdown",
      "metadata": {
        "id": "zZFmMP44vIXg"
      },
      "source": [
        "## Question 4\n",
        "\n",
        "What is the difference between a function and a function call?\n",
        "\n",
        "#### Solution\n",
        "\n",
        "We define a function "
      ]
    },
    {
      "cell_type": "code",
      "metadata": {
        "id": "L7XQ4VtV-kXd"
      },
      "source": [
        ""
      ],
      "execution_count": null,
      "outputs": []
    }
  ]
}