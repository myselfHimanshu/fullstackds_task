{
  "nbformat": 4,
  "nbformat_minor": 0,
  "metadata": {
    "orig_nbformat": 4,
    "language_info": {
      "name": "python",
      "version": "3.8.8",
      "mimetype": "text/x-python",
      "codemirror_mode": {
        "name": "ipython",
        "version": 3
      },
      "pygments_lexer": "ipython3",
      "nbconvert_exporter": "python",
      "file_extension": ".py"
    },
    "kernelspec": {
      "name": "python3",
      "display_name": "Python 3.8.8 64-bit ('base': conda)"
    },
    "interpreter": {
      "hash": "32004c3298a2e7fb08ce908835c9b26629c2a794a7626af23329d63295bbeafe"
    },
    "colab": {
      "name": "handson_04.ipynb",
      "provenance": [],
      "collapsed_sections": []
    }
  },
  "cells": [
    {
      "cell_type": "markdown",
      "metadata": {
        "id": "po5zPkqfvIXV"
      },
      "source": [
        "# Programming Assignment #004\n",
        "\n",
        "Below are the problem sets for basics python."
      ]
    },
    {
      "cell_type": "code",
      "metadata": {
        "colab": {
          "base_uri": "https://localhost:8080/"
        },
        "id": "A5Em1XX5vQZr",
        "outputId": "66d53988-c00e-4415-9b53-9e4a3d691997"
      },
      "source": [
        "# checking python version\n",
        "!python --version"
      ],
      "execution_count": 1,
      "outputs": [
        {
          "output_type": "stream",
          "name": "stdout",
          "text": [
            "Python 3.7.12\n"
          ]
        }
      ]
    },
    {
      "cell_type": "markdown",
      "metadata": {
        "id": "I2NwJYE1vIXa"
      },
      "source": [
        "## Question 1\n",
        "\n",
        "Write a Python Program to Find the Factorial of a Number?\n",
        "\n",
        "#### Solution"
      ]
    },
    {
      "cell_type": "code",
      "metadata": {
        "id": "miycNiZevIXa"
      },
      "source": [
        "def factorialofNumber(num):\n",
        "    return 1 if (num==1 or num==0) else num * factorialofNumber(num-1)"
      ],
      "execution_count": 2,
      "outputs": []
    },
    {
      "cell_type": "code",
      "source": [
        "num = int(input(\"Enter Number : \\t\"))\n",
        "print(f\"Factorial of Input Number {num} is {factorialofNumber(num)}\")"
      ],
      "metadata": {
        "colab": {
          "base_uri": "https://localhost:8080/"
        },
        "id": "t0IGZuHtMOfL",
        "outputId": "1a587ef4-e715-458c-a0b3-8391445b0f70"
      },
      "execution_count": 3,
      "outputs": [
        {
          "output_type": "stream",
          "name": "stdout",
          "text": [
            "Enter Number : \t10\n",
            "Factorial of Input Number 10 is 3628800\n"
          ]
        }
      ]
    },
    {
      "cell_type": "markdown",
      "metadata": {
        "id": "3wXh8kuUvIXd"
      },
      "source": [
        "## Question 2\n",
        "\n",
        "Write a Python Program to Display the multiplication Table?\n",
        "\n",
        "#### Solution"
      ]
    },
    {
      "cell_type": "code",
      "metadata": {
        "id": "pwxQUOmuvIXd"
      },
      "source": [
        "def multiplicationTable(num):\n",
        "    for i in range(1, 11):\n",
        "        print(f\"{num}x{i}={num*i}\")"
      ],
      "execution_count": 4,
      "outputs": []
    },
    {
      "cell_type": "code",
      "source": [
        "num = int(input(\"Enter Number : \\t\"))\n",
        "multiplicationTable(num)"
      ],
      "metadata": {
        "colab": {
          "base_uri": "https://localhost:8080/"
        },
        "id": "o1efBevxM-M8",
        "outputId": "fa92399b-2004-48cc-c5bf-018839727e21"
      },
      "execution_count": 5,
      "outputs": [
        {
          "output_type": "stream",
          "name": "stdout",
          "text": [
            "Enter Number : \t6\n",
            "6x1=6\n",
            "6x2=12\n",
            "6x3=18\n",
            "6x4=24\n",
            "6x5=30\n",
            "6x6=36\n",
            "6x7=42\n",
            "6x8=48\n",
            "6x9=54\n",
            "6x10=60\n"
          ]
        }
      ]
    },
    {
      "cell_type": "markdown",
      "metadata": {
        "id": "WkqxgP9_vIXe"
      },
      "source": [
        "## Question 3\n",
        "\n",
        "Write a Python Program to Print the Fibonacci sequence?\n",
        "\n",
        "#### Solution\n",
        "\n"
      ]
    },
    {
      "cell_type": "code",
      "source": [
        "def printFibonacciSeq(n):\n",
        "    a = 0\n",
        "    b = 1\n",
        "\n",
        "    if n<1:\n",
        "        print(\"Enter positive Number\")\n",
        "    elif n==1:\n",
        "        print(\"Fibonacci Sequence : \")\n",
        "        print(a)\n",
        "    else:\n",
        "        print(\"Fibonacci Sequence : \")\n",
        "        for i in range(n):\n",
        "            print(a)\n",
        "            c = a+b\n",
        "            a = b\n",
        "            b = c"
      ],
      "metadata": {
        "id": "zzmvMdtxPgvR"
      },
      "execution_count": 6,
      "outputs": []
    },
    {
      "cell_type": "code",
      "source": [
        "printFibonacciSeq(10)"
      ],
      "metadata": {
        "colab": {
          "base_uri": "https://localhost:8080/"
        },
        "id": "H0I3Y2L3YKQZ",
        "outputId": "7f28b81e-0107-40b3-d3f7-7efdd52aef4f"
      },
      "execution_count": 7,
      "outputs": [
        {
          "output_type": "stream",
          "name": "stdout",
          "text": [
            "Fibonacci Sequence : \n",
            "0\n",
            "1\n",
            "1\n",
            "2\n",
            "3\n",
            "5\n",
            "8\n",
            "13\n",
            "21\n",
            "34\n"
          ]
        }
      ]
    },
    {
      "cell_type": "markdown",
      "metadata": {
        "id": "zZFmMP44vIXg"
      },
      "source": [
        "## Question 4\n",
        "\n",
        "Write a Python Program to Check Armstrong Number?\n",
        "\n",
        "#### Solution\n",
        "\n",
        "Example of armstrong Number,"
      ]
    },
    {
      "cell_type": "code",
      "source": [
        "153 == 1*1*1 + 5*5*5 + 3*3*3"
      ],
      "metadata": {
        "colab": {
          "base_uri": "https://localhost:8080/"
        },
        "id": "Z4zCHcIVYskI",
        "outputId": "9b26d632-1341-41e6-ca0e-b9576e789f95"
      },
      "execution_count": 8,
      "outputs": [
        {
          "output_type": "execute_result",
          "data": {
            "text/plain": [
              "True"
            ]
          },
          "metadata": {},
          "execution_count": 8
        }
      ]
    },
    {
      "cell_type": "code",
      "metadata": {
        "id": "_N9lPZjdvIXh"
      },
      "source": [
        "import math\n",
        "def order(num):\n",
        "    return int(math.log10(num))+1\n",
        "\n",
        "def isArmstrong(num):\n",
        "    n = order(num)\n",
        "    s = 0\n",
        "    temp = num\n",
        "\n",
        "    while temp!=0:\n",
        "        r = temp%10\n",
        "        s += r**n\n",
        "        temp = temp//10\n",
        "\n",
        "    return s==num\n",
        "    "
      ],
      "execution_count": 9,
      "outputs": []
    },
    {
      "cell_type": "code",
      "source": [
        "isArmstrong(153)"
      ],
      "metadata": {
        "colab": {
          "base_uri": "https://localhost:8080/"
        },
        "id": "JhDaiweXFza1",
        "outputId": "5a8ad005-8382-4934-cc6c-db0077495e64"
      },
      "execution_count": 10,
      "outputs": [
        {
          "output_type": "execute_result",
          "data": {
            "text/plain": [
              "True"
            ]
          },
          "metadata": {},
          "execution_count": 10
        }
      ]
    },
    {
      "cell_type": "markdown",
      "metadata": {
        "id": "eJoFmhWDvIXi"
      },
      "source": [
        "## Question 5\n",
        "\n",
        "Write a Python Program to Find Armstrong Number in an Interval?\n",
        "\n",
        "#### Solution\n",
        "\n"
      ]
    },
    {
      "cell_type": "code",
      "metadata": {
        "id": "8m6E0F3rvIXj"
      },
      "source": [
        "lower_bound = 100\n",
        "upper_bound = 1000"
      ],
      "execution_count": 11,
      "outputs": []
    },
    {
      "cell_type": "code",
      "source": [
        "for r in range(lower_bound, upper_bound+1):\n",
        "    if isArmstrong(r):\n",
        "        print(f\"Number {r} is Armstrong Number\")"
      ],
      "metadata": {
        "colab": {
          "base_uri": "https://localhost:8080/"
        },
        "id": "XaJ2GIBoavbC",
        "outputId": "09213fe6-e9cf-40c2-cd67-d607c5e33e55"
      },
      "execution_count": 12,
      "outputs": [
        {
          "output_type": "stream",
          "name": "stdout",
          "text": [
            "Number 153 is Armstrong Number\n",
            "Number 370 is Armstrong Number\n",
            "Number 371 is Armstrong Number\n",
            "Number 407 is Armstrong Number\n"
          ]
        }
      ]
    },
    {
      "cell_type": "markdown",
      "source": [
        "## Question 6\n",
        "\n",
        "Write a Python Program to Find the Sum of Natural Numbers?\n",
        "\n",
        "#### Solution\n",
        "\n",
        "Given a number n find sum of first n natural numbers.\n",
        "\n",
        "```\n",
        "n = 6\n",
        "6+5+4+3+2+1 = 21\n",
        "```"
      ],
      "metadata": {
        "id": "ObLe1S2Ya9dJ"
      }
    },
    {
      "cell_type": "code",
      "source": [
        "def findSum(n) :\n",
        "    return (n / 2) * (n + 1) if (n % 2 == 0) else ((n + 1) / 2) * n"
      ],
      "metadata": {
        "id": "8lt1laova44t"
      },
      "execution_count": 13,
      "outputs": []
    },
    {
      "cell_type": "code",
      "source": [
        "findSum(6)"
      ],
      "metadata": {
        "colab": {
          "base_uri": "https://localhost:8080/"
        },
        "id": "kob6MaRIb-t8",
        "outputId": "73ceecca-a8d3-4a05-bd6b-00fd4dd8174d"
      },
      "execution_count": 14,
      "outputs": [
        {
          "output_type": "execute_result",
          "data": {
            "text/plain": [
              "21.0"
            ]
          },
          "metadata": {},
          "execution_count": 14
        }
      ]
    },
    {
      "cell_type": "code",
      "source": [
        "findSum(8)"
      ],
      "metadata": {
        "colab": {
          "base_uri": "https://localhost:8080/"
        },
        "id": "AnYXQienb_0m",
        "outputId": "bd210c68-4c40-49b5-f61a-2b4faf8e2b94"
      },
      "execution_count": 15,
      "outputs": [
        {
          "output_type": "execute_result",
          "data": {
            "text/plain": [
              "36.0"
            ]
          },
          "metadata": {},
          "execution_count": 15
        }
      ]
    },
    {
      "cell_type": "code",
      "source": [
        ""
      ],
      "metadata": {
        "id": "4Jpn1QnDcCM1"
      },
      "execution_count": 15,
      "outputs": []
    }
  ]
}