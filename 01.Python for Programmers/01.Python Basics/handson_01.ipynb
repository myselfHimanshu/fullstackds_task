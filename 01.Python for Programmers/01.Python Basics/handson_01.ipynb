{
  "nbformat": 4,
  "nbformat_minor": 0,
  "metadata": {
    "orig_nbformat": 4,
    "language_info": {
      "name": "python",
      "version": "3.8.8",
      "mimetype": "text/x-python",
      "codemirror_mode": {
        "name": "ipython",
        "version": 3
      },
      "pygments_lexer": "ipython3",
      "nbconvert_exporter": "python",
      "file_extension": ".py"
    },
    "kernelspec": {
      "name": "python3",
      "display_name": "Python 3.8.8 64-bit ('base': conda)"
    },
    "interpreter": {
      "hash": "32004c3298a2e7fb08ce908835c9b26629c2a794a7626af23329d63295bbeafe"
    },
    "colab": {
      "name": "handson_01.ipynb",
      "provenance": []
    }
  },
  "cells": [
    {
      "cell_type": "markdown",
      "metadata": {
        "id": "po5zPkqfvIXV"
      },
      "source": [
        "# Programming Assignment #001\n",
        "\n",
        "Below are the problem sets for basics python."
      ]
    },
    {
      "cell_type": "code",
      "metadata": {
        "colab": {
          "base_uri": "https://localhost:8080/"
        },
        "id": "A5Em1XX5vQZr",
        "outputId": "508f0f37-1d4e-41df-8a2a-cab2463ad92b"
      },
      "source": [
        "# checking python version\n",
        "!python --version"
      ],
      "execution_count": 1,
      "outputs": [
        {
          "output_type": "stream",
          "name": "stdout",
          "text": [
            "Python 3.7.12\n"
          ]
        }
      ]
    },
    {
      "cell_type": "markdown",
      "metadata": {
        "id": "I2NwJYE1vIXa"
      },
      "source": [
        "## Question 1\n",
        "\n",
        "Write a Python program to print 'Hello Python'?\n",
        "\n",
        "#### Solution"
      ]
    },
    {
      "cell_type": "code",
      "metadata": {
        "colab": {
          "base_uri": "https://localhost:8080/"
        },
        "id": "miycNiZevIXa",
        "outputId": "3298ce43-61ea-4bab-cbd4-d56c0de95989"
      },
      "source": [
        "print(\"Hello Python\")"
      ],
      "execution_count": 2,
      "outputs": [
        {
          "output_type": "stream",
          "name": "stdout",
          "text": [
            "Hello Python\n"
          ]
        }
      ]
    },
    {
      "cell_type": "markdown",
      "metadata": {
        "id": "3wXh8kuUvIXd"
      },
      "source": [
        "## Question 2\n",
        "\n",
        "Write a Python program to do arithmetical operations addition and division?\n",
        "\n",
        "#### Solution"
      ]
    },
    {
      "cell_type": "code",
      "metadata": {
        "colab": {
          "base_uri": "https://localhost:8080/"
        },
        "id": "pwxQUOmuvIXd",
        "outputId": "cade7a3c-c581-4fd4-fbfd-20e810802a8f"
      },
      "source": [
        "num1 = 10\n",
        "num2 = 20\n",
        "\n",
        "print(f\"Addition Result : {num1+num2}\")\n",
        "print(f\"Division Result : {num1/num2}\")\n",
        "\n",
        "# note: division operation always results in float dtype\n",
        "print(f\"Division of 20 by 10 is {20/10}\")"
      ],
      "execution_count": 3,
      "outputs": [
        {
          "output_type": "stream",
          "name": "stdout",
          "text": [
            "Addition Result : 30\n",
            "Division Result : 0.5\n",
            "Division of 20 by 10 is 2.0\n"
          ]
        }
      ]
    },
    {
      "cell_type": "markdown",
      "metadata": {
        "id": "WkqxgP9_vIXe"
      },
      "source": [
        "## Question 3\n",
        "\n",
        "Write a Python program to find the area of a triangle?\n",
        "\n",
        "#### Solution"
      ]
    },
    {
      "cell_type": "code",
      "metadata": {
        "colab": {
          "base_uri": "https://localhost:8080/"
        },
        "id": "PdIUdumUvIXf",
        "outputId": "5e98f276-c27b-4eca-8ca5-7e06d0798fe4"
      },
      "source": [
        "# user input: height and base of triangle\n",
        "height = int(input(\"Enter height of triangle\\t\"))\n",
        "base = int(input(\"Enter base of triangle\\t\"))\n",
        "\n",
        "# area formula\n",
        "area = (1/2)*(base*height)\n",
        "\n",
        "print(f\"Area of triangle with base:{base} and height:{height} = {area} \")"
      ],
      "execution_count": 6,
      "outputs": [
        {
          "output_type": "stream",
          "name": "stdout",
          "text": [
            "Enter height of triangle\t20\n",
            "Enter base of triangle\t10\n",
            "Area of triangle with base:10 and height:20 = 100.0 \n"
          ]
        }
      ]
    },
    {
      "cell_type": "markdown",
      "metadata": {
        "id": "zZFmMP44vIXg"
      },
      "source": [
        "## Question 4\n",
        "\n",
        "Write a Python program to swap two variables?\n",
        "\n",
        "#### Solution"
      ]
    },
    {
      "cell_type": "code",
      "metadata": {
        "colab": {
          "base_uri": "https://localhost:8080/"
        },
        "id": "_N9lPZjdvIXh",
        "outputId": "749cc746-fdd3-44a3-c605-31ff0b4f18d5"
      },
      "source": [
        "# user input two variables\n",
        "a = int(input(\"Input first number\\t\"))\n",
        "b = int(input(\"Input second number\\t\"))\n",
        "print(\"--------------------\")\n",
        "print(f\"Value of a = {a}, value of b = {b}\")\n",
        "\n",
        "# Solution 1 using temp variable\n",
        "c = a\n",
        "a = b\n",
        "b = c\n",
        "\n",
        "print(f\"After Swapped Operation\\nValue of a = {a}, value of b = {b}\")\n",
        "print(\"--------------------\")\n",
        "\n",
        "# Solution 2\n",
        "print(f\"Value of a = {a}, value of b = {b}\")\n",
        "a, b = b, a\n",
        "\n",
        "print(f\"After Swapped Operation\\nValue of a = {a}, value of b = {b}\")"
      ],
      "execution_count": 8,
      "outputs": [
        {
          "output_type": "stream",
          "name": "stdout",
          "text": [
            "Input first number\t10\n",
            "Input second number\t20\n",
            "--------------------\n",
            "Value of a = 10, value of b = 20\n",
            "After Swapped Operation\n",
            "Value of a = 20, value of b = 10\n",
            "--------------------\n",
            "Value of a = 20, value of b = 10\n",
            "After Swapped Operation\n",
            "Value of a = 10, value of b = 20\n"
          ]
        }
      ]
    },
    {
      "cell_type": "markdown",
      "metadata": {
        "id": "eJoFmhWDvIXi"
      },
      "source": [
        "## Question 5\n",
        "\n",
        "Write a Python program to generate a random number?\n",
        "\n",
        "#### Solution"
      ]
    },
    {
      "cell_type": "code",
      "metadata": {
        "colab": {
          "base_uri": "https://localhost:8080/"
        },
        "id": "8m6E0F3rvIXj",
        "outputId": "18f2fadd-8925-47a0-cb98-b4a9c02d3e71"
      },
      "source": [
        "# using built-in module\n",
        "import random\n",
        "\n",
        "# returns random integer between range.\n",
        "print(random.randint(10, 200))"
      ],
      "execution_count": 10,
      "outputs": [
        {
          "output_type": "stream",
          "name": "stdout",
          "text": [
            "143\n"
          ]
        }
      ]
    },
    {
      "cell_type": "code",
      "metadata": {
        "id": "0glSlrrevIXj"
      },
      "source": [
        ""
      ],
      "execution_count": null,
      "outputs": []
    }
  ]
}