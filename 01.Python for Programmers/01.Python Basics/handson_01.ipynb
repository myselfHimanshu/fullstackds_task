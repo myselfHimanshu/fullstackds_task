{
 "cells": [
  {
   "cell_type": "markdown",
   "source": [
    "# Programming Assignment #001\n",
    "\n",
    "Below are the problem sets for basics python."
   ],
   "metadata": {}
  },
  {
   "cell_type": "markdown",
   "source": [
    "## Question 1\n",
    "\n",
    "Write a Python program to print 'Hello Python'?\n",
    "\n",
    "#### Solution"
   ],
   "metadata": {}
  },
  {
   "cell_type": "code",
   "execution_count": 1,
   "source": [
    "print(\"Hello Python\")"
   ],
   "outputs": [
    {
     "output_type": "stream",
     "name": "stdout",
     "text": [
      "Hello Python\n"
     ]
    }
   ],
   "metadata": {}
  },
  {
   "cell_type": "markdown",
   "source": [
    "## Question 2\n",
    "\n",
    "Write a Python program to do arithmetical operations addition and division.?\n",
    "\n",
    "#### Solution"
   ],
   "metadata": {}
  },
  {
   "cell_type": "code",
   "execution_count": 2,
   "source": [
    "num1 = 10\n",
    "num2 = 20\n",
    "\n",
    "print(f\"Addition Result : {num1+num2}\")\n",
    "print(f\"Division Result : {num1/num2}\")"
   ],
   "outputs": [
    {
     "output_type": "stream",
     "name": "stdout",
     "text": [
      "Addition Result : 30\n",
      "Division Result : 0.5\n"
     ]
    }
   ],
   "metadata": {}
  },
  {
   "cell_type": "markdown",
   "source": [
    "## Question 3\n",
    "\n",
    "Write a Python program to find the area of a triangle?\n",
    "\n",
    "#### Solution"
   ],
   "metadata": {}
  },
  {
   "cell_type": "code",
   "execution_count": 3,
   "source": [
    "height = int(input(\"Enter height of triangle\"))\n",
    "base = int(input(\"Enter base of triangle\"))\n",
    "\n",
    "area = (1/2)*(base*height)\n",
    "\n",
    "print(f\"Area of traiangle with base={base} and height={height} = {area}\")"
   ],
   "outputs": [
    {
     "output_type": "stream",
     "name": "stdout",
     "text": [
      "Area of traiangle with base=20 and height=20 = 200.0\n"
     ]
    }
   ],
   "metadata": {}
  },
  {
   "cell_type": "markdown",
   "source": [
    "## Question 4\n",
    "\n",
    "Write a Python program to swap two variables?\n",
    "\n",
    "#### Solution"
   ],
   "metadata": {}
  },
  {
   "cell_type": "code",
   "execution_count": 4,
   "source": [
    "a = int(input(\"Input first number\"))\n",
    "b = int(input(\"Input second number\"))\n",
    "\n",
    "print(f\"Value of a = {a}, value of b = {b}\")\n",
    "\n",
    "a, b = b, a\n",
    "\n",
    "print(f\"Value of a = {a}, value of b = {b}\")"
   ],
   "outputs": [
    {
     "output_type": "stream",
     "name": "stdout",
     "text": [
      "Value of a = 25, value of b = 45\n",
      "Value of a = 45, value of b = 25\n"
     ]
    }
   ],
   "metadata": {}
  },
  {
   "cell_type": "markdown",
   "source": [
    "## Question 5\n",
    "\n",
    "Write a Python program to generate a random number?\n",
    "\n",
    "#### Solution"
   ],
   "metadata": {}
  },
  {
   "cell_type": "code",
   "execution_count": 6,
   "source": [
    "import random\n",
    "\n",
    "random.randint(10, 200)"
   ],
   "outputs": [
    {
     "output_type": "execute_result",
     "data": {
      "text/plain": [
       "198"
      ]
     },
     "metadata": {},
     "execution_count": 6
    }
   ],
   "metadata": {}
  },
  {
   "cell_type": "code",
   "execution_count": null,
   "source": [],
   "outputs": [],
   "metadata": {}
  }
 ],
 "metadata": {
  "orig_nbformat": 4,
  "language_info": {
   "name": "python",
   "version": "3.8.8",
   "mimetype": "text/x-python",
   "codemirror_mode": {
    "name": "ipython",
    "version": 3
   },
   "pygments_lexer": "ipython3",
   "nbconvert_exporter": "python",
   "file_extension": ".py"
  },
  "kernelspec": {
   "name": "python3",
   "display_name": "Python 3.8.8 64-bit ('base': conda)"
  },
  "interpreter": {
   "hash": "32004c3298a2e7fb08ce908835c9b26629c2a794a7626af23329d63295bbeafe"
  }
 },
 "nbformat": 4,
 "nbformat_minor": 2
}