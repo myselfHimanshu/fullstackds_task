{
  "nbformat": 4,
  "nbformat_minor": 0,
  "metadata": {
    "orig_nbformat": 4,
    "language_info": {
      "name": "python",
      "version": "3.8.8",
      "mimetype": "text/x-python",
      "codemirror_mode": {
        "name": "ipython",
        "version": 3
      },
      "pygments_lexer": "ipython3",
      "nbconvert_exporter": "python",
      "file_extension": ".py"
    },
    "kernelspec": {
      "name": "python3",
      "display_name": "Python 3.8.8 64-bit ('base': conda)"
    },
    "interpreter": {
      "hash": "32004c3298a2e7fb08ce908835c9b26629c2a794a7626af23329d63295bbeafe"
    },
    "colab": {
      "name": "theory_05.ipynb",
      "provenance": [],
      "collapsed_sections": []
    }
  },
  "cells": [
    {
      "cell_type": "markdown",
      "metadata": {
        "id": "po5zPkqfvIXV"
      },
      "source": [
        "# Assignment #004\n",
        "\n",
        "Below are the problem sets for basics python."
      ]
    },
    {
      "cell_type": "code",
      "metadata": {
        "colab": {
          "base_uri": "https://localhost:8080/"
        },
        "id": "A5Em1XX5vQZr",
        "outputId": "839f864d-3fb7-45e1-ba3a-b633f4749c27"
      },
      "source": [
        "# checking python version\n",
        "!python --version"
      ],
      "execution_count": 1,
      "outputs": [
        {
          "output_type": "stream",
          "name": "stdout",
          "text": [
            "Python 3.7.12\n"
          ]
        }
      ]
    },
    {
      "cell_type": "markdown",
      "source": [
        "## Question 01\n",
        "\n",
        "What does an empty dictionary's code look like?\n",
        "\n",
        "#### Solution"
      ],
      "metadata": {
        "id": "CdwdJ2sDUwLz"
      }
    },
    {
      "cell_type": "code",
      "source": [
        "my_dict = {}\n",
        "my_dict, type(my_dict)"
      ],
      "metadata": {
        "colab": {
          "base_uri": "https://localhost:8080/"
        },
        "id": "g6s-W3eCU2oD",
        "outputId": "296fc171-4c00-4b1b-c28d-7a4afdc8d549"
      },
      "execution_count": 2,
      "outputs": [
        {
          "output_type": "execute_result",
          "data": {
            "text/plain": [
              "({}, dict)"
            ]
          },
          "metadata": {},
          "execution_count": 2
        }
      ]
    },
    {
      "cell_type": "markdown",
      "source": [
        "## Question 02\n",
        "\n",
        "What is the value of a dictionary value with the key 'foo' and the value 42?\n",
        "\n",
        "#### Solution\n",
        "\n"
      ],
      "metadata": {
        "id": "5lEm7MRGVFeS"
      }
    },
    {
      "cell_type": "code",
      "source": [
        "my_dict = {'foo' : 42}\n",
        "\n",
        "print(my_dict)\n",
        "print(f\"Values of dictionary : {my_dict.values()}\")"
      ],
      "metadata": {
        "colab": {
          "base_uri": "https://localhost:8080/"
        },
        "id": "xwVcHB8-U8i3",
        "outputId": "be28680f-0c45-4c26-c441-ce0ba4657f9f"
      },
      "execution_count": 3,
      "outputs": [
        {
          "output_type": "stream",
          "name": "stdout",
          "text": [
            "{'foo': 42}\n",
            "Values of dictionary : dict_values([42])\n"
          ]
        }
      ]
    },
    {
      "cell_type": "markdown",
      "source": [
        "## Question 03\n",
        "\n",
        "What is the most significant distinction between a dictionary and a list?\n",
        "\n",
        "#### Solution\n",
        "\n",
        "Dictionaries are unordered collection of data points. It uses key, value structure to store the values.\n",
        "\n",
        "Lists have ordered items."
      ],
      "metadata": {
        "id": "jLwIMnpcVY2z"
      }
    },
    {
      "cell_type": "code",
      "source": [
        "my_list = [1,2,3,4]\n",
        "my_list"
      ],
      "metadata": {
        "colab": {
          "base_uri": "https://localhost:8080/"
        },
        "id": "BA3tjYCzVXGE",
        "outputId": "e1756b03-7a9f-4ae8-c7d5-bd2ab81acb8a"
      },
      "execution_count": 4,
      "outputs": [
        {
          "output_type": "execute_result",
          "data": {
            "text/plain": [
              "[1, 2, 3, 4]"
            ]
          },
          "metadata": {},
          "execution_count": 4
        }
      ]
    },
    {
      "cell_type": "code",
      "source": [
        "my_dict = {'foo' : 43, 'la' : 42, 'a':1}\n",
        "my_dict"
      ],
      "metadata": {
        "colab": {
          "base_uri": "https://localhost:8080/"
        },
        "id": "QKL3BZQLWMed",
        "outputId": "fa0d6638-3581-4139-96c2-0aa23262fe12"
      },
      "execution_count": 5,
      "outputs": [
        {
          "output_type": "execute_result",
          "data": {
            "text/plain": [
              "{'a': 1, 'foo': 43, 'la': 42}"
            ]
          },
          "metadata": {},
          "execution_count": 5
        }
      ]
    },
    {
      "cell_type": "markdown",
      "source": [
        "## Question 04\n",
        "\n",
        "What happens if you try to access spam['foo'] if spam is {'bar': 100}?\n",
        "\n",
        "#### Solution\n"
      ],
      "metadata": {
        "id": "P8Jrh5mcWWCl"
      }
    },
    {
      "cell_type": "code",
      "source": [
        "# initialize dict\n",
        "my_dict = {'bar' : 100}\n",
        "my_dict"
      ],
      "metadata": {
        "colab": {
          "base_uri": "https://localhost:8080/"
        },
        "id": "H1KgruU5WSg9",
        "outputId": "175a23ae-a2ff-4ae7-de24-3493715948e1"
      },
      "execution_count": 6,
      "outputs": [
        {
          "output_type": "execute_result",
          "data": {
            "text/plain": [
              "{'bar': 100}"
            ]
          },
          "metadata": {},
          "execution_count": 6
        }
      ]
    },
    {
      "cell_type": "code",
      "source": [
        "# accessing key 'foo'\n",
        "my_dict['foo']"
      ],
      "metadata": {
        "colab": {
          "base_uri": "https://localhost:8080/",
          "height": 191
        },
        "id": "c0v1_EjgWh2q",
        "outputId": "b53afcb8-b55b-43be-e763-dc60eaad68ed"
      },
      "execution_count": 8,
      "outputs": [
        {
          "output_type": "error",
          "ename": "KeyError",
          "evalue": "ignored",
          "traceback": [
            "\u001b[0;31m---------------------------------------------------------------------------\u001b[0m",
            "\u001b[0;31mKeyError\u001b[0m                                  Traceback (most recent call last)",
            "\u001b[0;32m<ipython-input-8-275b05e485f7>\u001b[0m in \u001b[0;36m<module>\u001b[0;34m()\u001b[0m\n\u001b[1;32m      1\u001b[0m \u001b[0;31m# accessing key 'foo'\u001b[0m\u001b[0;34m\u001b[0m\u001b[0;34m\u001b[0m\u001b[0;34m\u001b[0m\u001b[0m\n\u001b[0;32m----> 2\u001b[0;31m \u001b[0mmy_dict\u001b[0m\u001b[0;34m[\u001b[0m\u001b[0;34m'foo'\u001b[0m\u001b[0;34m]\u001b[0m\u001b[0;34m\u001b[0m\u001b[0;34m\u001b[0m\u001b[0m\n\u001b[0m",
            "\u001b[0;31mKeyError\u001b[0m: 'foo'"
          ]
        }
      ]
    },
    {
      "cell_type": "markdown",
      "source": [
        "## Question 05\n",
        "\n",
        "If a dictionary is stored in spam, what is the difference between the expressions 'cat' in spam and 'cat' in spam.keys()?\n",
        "\n",
        "#### Solution\n",
        "\n",
        "`dict.keys()` returns a list of keys of the dictionary."
      ],
      "metadata": {
        "id": "atKOix8vWnJ1"
      }
    },
    {
      "cell_type": "code",
      "source": [
        "# initialize dictionary\n",
        "my_dict = {'dog': 1, 'cat': 2, 'parrot': 4}"
      ],
      "metadata": {
        "id": "S_c1lkaBWliB"
      },
      "execution_count": 9,
      "outputs": []
    },
    {
      "cell_type": "code",
      "source": [
        "'cat' in my_dict"
      ],
      "metadata": {
        "colab": {
          "base_uri": "https://localhost:8080/"
        },
        "id": "astzb-nYXEPZ",
        "outputId": "17e9487e-f4f0-4171-8c3a-57acd3019097"
      },
      "execution_count": 10,
      "outputs": [
        {
          "output_type": "execute_result",
          "data": {
            "text/plain": [
              "True"
            ]
          },
          "metadata": {},
          "execution_count": 10
        }
      ]
    },
    {
      "cell_type": "code",
      "source": [
        "'cat' in my_dict.keys()"
      ],
      "metadata": {
        "colab": {
          "base_uri": "https://localhost:8080/"
        },
        "id": "NI0aMrMkXF5y",
        "outputId": "19d5820e-e42f-487f-9fdb-dec0ae4a2ded"
      },
      "execution_count": 11,
      "outputs": [
        {
          "output_type": "execute_result",
          "data": {
            "text/plain": [
              "True"
            ]
          },
          "metadata": {},
          "execution_count": 11
        }
      ]
    },
    {
      "cell_type": "markdown",
      "source": [
        "Maybe the difference is between time to access a key."
      ],
      "metadata": {
        "id": "uXmM_BxyX2Fs"
      }
    },
    {
      "cell_type": "code",
      "source": [
        "%timeit('cat' in my_dict)"
      ],
      "metadata": {
        "colab": {
          "base_uri": "https://localhost:8080/"
        },
        "id": "XQdT1_VZXIng",
        "outputId": "715d23cb-77da-4d9f-b96f-29086099f313"
      },
      "execution_count": 12,
      "outputs": [
        {
          "output_type": "stream",
          "name": "stdout",
          "text": [
            "The slowest run took 27.43 times longer than the fastest. This could mean that an intermediate result is being cached.\n",
            "10000000 loops, best of 5: 53.3 ns per loop\n"
          ]
        }
      ]
    },
    {
      "cell_type": "code",
      "source": [
        "%timeit('cat' in my_dict.keys())"
      ],
      "metadata": {
        "colab": {
          "base_uri": "https://localhost:8080/"
        },
        "id": "N8bolA7XXRBZ",
        "outputId": "1498558c-fefc-4476-cfce-43d4d6ac6a1e"
      },
      "execution_count": 13,
      "outputs": [
        {
          "output_type": "stream",
          "name": "stdout",
          "text": [
            "The slowest run took 25.88 times longer than the fastest. This could mean that an intermediate result is being cached.\n",
            "10000000 loops, best of 5: 120 ns per loop\n"
          ]
        }
      ]
    },
    {
      "cell_type": "markdown",
      "source": [
        "## Question 06\n",
        "\n",
        "If a dictionary is stored in spam, what is the difference between the expressions 'cat' in spam and 'cat' in spam.values()?\n",
        "\n",
        "#### Solution\n",
        "\n",
        "'cat' in spam checks if 'cat' key is presend in dictionary or not.\n",
        "\n",
        "'cat' in spam.values() check 'cat' value in any of the key of spam."
      ],
      "metadata": {
        "id": "Ht9I3U3QYx3-"
      }
    },
    {
      "cell_type": "code",
      "source": [
        "# initialize dictionary\n",
        "my_dict = {'dog': 1, 'cat': 2, 'parrot': 4}"
      ],
      "metadata": {
        "id": "yCaal0UYYqGu"
      },
      "execution_count": 14,
      "outputs": []
    },
    {
      "cell_type": "code",
      "source": [
        "'cat' in my_dict"
      ],
      "metadata": {
        "colab": {
          "base_uri": "https://localhost:8080/"
        },
        "id": "s0SXjaHhZKPr",
        "outputId": "d9ddb7ef-0393-4fa4-bba1-57f8eca7a78e"
      },
      "execution_count": 15,
      "outputs": [
        {
          "output_type": "execute_result",
          "data": {
            "text/plain": [
              "True"
            ]
          },
          "metadata": {},
          "execution_count": 15
        }
      ]
    },
    {
      "cell_type": "code",
      "source": [
        "my_dict.values()"
      ],
      "metadata": {
        "colab": {
          "base_uri": "https://localhost:8080/"
        },
        "id": "K6klCpvIZRT7",
        "outputId": "2e0856a4-8549-478a-966f-caa754fb43da"
      },
      "execution_count": 16,
      "outputs": [
        {
          "output_type": "execute_result",
          "data": {
            "text/plain": [
              "dict_values([1, 2, 4])"
            ]
          },
          "metadata": {},
          "execution_count": 16
        }
      ]
    },
    {
      "cell_type": "code",
      "source": [
        "'cat' in my_dict.values()"
      ],
      "metadata": {
        "colab": {
          "base_uri": "https://localhost:8080/"
        },
        "id": "hf3CMTh7ZOAS",
        "outputId": "555bfc4b-2390-492f-dade-09adad530315"
      },
      "execution_count": 17,
      "outputs": [
        {
          "output_type": "execute_result",
          "data": {
            "text/plain": [
              "False"
            ]
          },
          "metadata": {},
          "execution_count": 17
        }
      ]
    },
    {
      "cell_type": "markdown",
      "source": [
        "## Question 07\n",
        "\n",
        "What is a shortcut for the following code?\n",
        "\n",
        "```python\n",
        "if 'color' not in spam:\n",
        "    spam['color'] = 'black'\n",
        "```\n",
        "\n",
        "### Solution"
      ],
      "metadata": {
        "id": "IIjtkBoXZvdY"
      }
    },
    {
      "cell_type": "code",
      "source": [
        "help(dict.setdefault)"
      ],
      "metadata": {
        "colab": {
          "base_uri": "https://localhost:8080/"
        },
        "id": "TXeOe2gyZUZV",
        "outputId": "0e008998-22e7-4988-c44b-c0e593fdc9c3"
      },
      "execution_count": 18,
      "outputs": [
        {
          "output_type": "stream",
          "name": "stdout",
          "text": [
            "Help on method_descriptor:\n",
            "\n",
            "setdefault(self, key, default=None, /)\n",
            "    Insert key with a value of default if key is not in the dictionary.\n",
            "    \n",
            "    Return the value for key if key is in the dictionary, else default.\n",
            "\n"
          ]
        }
      ]
    },
    {
      "cell_type": "code",
      "source": [
        "spam = {}\n",
        "spam.setdefault('color', 'black')"
      ],
      "metadata": {
        "colab": {
          "base_uri": "https://localhost:8080/",
          "height": 36
        },
        "id": "9qglAW5vaeFL",
        "outputId": "0cb6f664-d478-42e0-a055-0401daf83ec3"
      },
      "execution_count": 19,
      "outputs": [
        {
          "output_type": "execute_result",
          "data": {
            "application/vnd.google.colaboratory.intrinsic+json": {
              "type": "string"
            },
            "text/plain": [
              "'black'"
            ]
          },
          "metadata": {},
          "execution_count": 19
        }
      ]
    },
    {
      "cell_type": "code",
      "source": [
        "spam"
      ],
      "metadata": {
        "colab": {
          "base_uri": "https://localhost:8080/"
        },
        "id": "qBOlXsjPajeU",
        "outputId": "f29afab8-5f65-430e-9135-a0dbf18f6c38"
      },
      "execution_count": 20,
      "outputs": [
        {
          "output_type": "execute_result",
          "data": {
            "text/plain": [
              "{'color': 'black'}"
            ]
          },
          "metadata": {},
          "execution_count": 20
        }
      ]
    },
    {
      "cell_type": "markdown",
      "source": [
        "## Question 08\n",
        "\n",
        "How do you \"pretty print\" dictionary values, using which module and function?\n",
        "\n",
        "#### Solution\n",
        "\n",
        "Using \"json\" module."
      ],
      "metadata": {
        "id": "TCEOSD6oasaY"
      }
    },
    {
      "cell_type": "code",
      "source": [
        "my_dict = {'a' : {'name': 'Anne', 'Age': 22}, 'b' : {'name': 'Luke', 'Age': 55}}"
      ],
      "metadata": {
        "id": "_Wrjx3wNapm7"
      },
      "execution_count": 21,
      "outputs": []
    },
    {
      "cell_type": "code",
      "source": [
        "print(my_dict)"
      ],
      "metadata": {
        "colab": {
          "base_uri": "https://localhost:8080/"
        },
        "id": "frAv15wMbENf",
        "outputId": "c1214747-23df-47ab-ee94-3437fba776ac"
      },
      "execution_count": 22,
      "outputs": [
        {
          "output_type": "stream",
          "name": "stdout",
          "text": [
            "{'a': {'name': 'Anne', 'Age': 22}, 'b': {'name': 'Luke', 'Age': 55}}\n"
          ]
        }
      ]
    },
    {
      "cell_type": "code",
      "source": [
        "import json\n",
        "\n",
        "print(json.dumps(my_dict, indent=4))"
      ],
      "metadata": {
        "colab": {
          "base_uri": "https://localhost:8080/"
        },
        "id": "VnB-KQZHbFsT",
        "outputId": "72d1a04c-f191-457d-e299-40389e5a09c6"
      },
      "execution_count": 23,
      "outputs": [
        {
          "output_type": "stream",
          "name": "stdout",
          "text": [
            "{\n",
            "    \"a\": {\n",
            "        \"name\": \"Anne\",\n",
            "        \"Age\": 22\n",
            "    },\n",
            "    \"b\": {\n",
            "        \"name\": \"Luke\",\n",
            "        \"Age\": 55\n",
            "    }\n",
            "}\n"
          ]
        }
      ]
    }
  ]
}