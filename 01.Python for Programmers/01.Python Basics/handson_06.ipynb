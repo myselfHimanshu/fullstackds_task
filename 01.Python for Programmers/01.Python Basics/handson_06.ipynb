{
  "nbformat": 4,
  "nbformat_minor": 0,
  "metadata": {
    "orig_nbformat": 4,
    "language_info": {
      "name": "python",
      "version": "3.8.8",
      "mimetype": "text/x-python",
      "codemirror_mode": {
        "name": "ipython",
        "version": 3
      },
      "pygments_lexer": "ipython3",
      "nbconvert_exporter": "python",
      "file_extension": ".py"
    },
    "kernelspec": {
      "name": "python3",
      "display_name": "Python 3.8.8 64-bit ('base': conda)"
    },
    "interpreter": {
      "hash": "32004c3298a2e7fb08ce908835c9b26629c2a794a7626af23329d63295bbeafe"
    },
    "colab": {
      "name": "handson_06.ipynb",
      "provenance": [],
      "collapsed_sections": []
    }
  },
  "cells": [
    {
      "cell_type": "markdown",
      "metadata": {
        "id": "po5zPkqfvIXV"
      },
      "source": [
        "# Programming Assignment #006\n",
        "\n",
        "Below are the problem sets for basics python."
      ]
    },
    {
      "cell_type": "code",
      "metadata": {
        "colab": {
          "base_uri": "https://localhost:8080/"
        },
        "id": "A5Em1XX5vQZr",
        "outputId": "dd67d588-f37e-46b6-d5cd-015891426f8f"
      },
      "source": [
        "# checking python version\n",
        "!python --version"
      ],
      "execution_count": 1,
      "outputs": [
        {
          "output_type": "stream",
          "name": "stdout",
          "text": [
            "Python 3.7.12\n"
          ]
        }
      ]
    },
    {
      "cell_type": "markdown",
      "metadata": {
        "id": "I2NwJYE1vIXa"
      },
      "source": [
        "## Question 1\n",
        "\n",
        "Write a Python Program to Display Fibonacci Sequence Using Recursion?\n",
        "\n",
        "#### Solution"
      ]
    },
    {
      "cell_type": "code",
      "metadata": {
        "id": "miycNiZevIXa",
        "colab": {
          "base_uri": "https://localhost:8080/"
        },
        "outputId": "05be8b68-dcb2-4b29-ff57-b4d7fdc29e76"
      },
      "source": [
        "def fibonacci_series(n):\n",
        "    if n<=1:\n",
        "        return n\n",
        "    else:\n",
        "        return fibonacci_series(n-1) + fibonacci_series(n-2) \n",
        "\n",
        "n = int(input(\"Enter a whole number\\t\"))\n",
        "\n",
        "if n<1:\n",
        "    print(\"Invalid Input\")\n",
        "elif n==1:\n",
        "    print(0)\n",
        "else:\n",
        "    print(\"Your fibonacci Sequence\")\n",
        "    for i in range(n):\n",
        "        print(fibonacci_series(i))\n",
        "\n",
        "    "
      ],
      "execution_count": 2,
      "outputs": [
        {
          "output_type": "stream",
          "name": "stdout",
          "text": [
            "Enter a whole number\t10\n",
            "Your fibonacci Sequence\n",
            "0\n",
            "1\n",
            "1\n",
            "2\n",
            "3\n",
            "5\n",
            "8\n",
            "13\n",
            "21\n",
            "34\n"
          ]
        }
      ]
    },
    {
      "cell_type": "markdown",
      "metadata": {
        "id": "3wXh8kuUvIXd"
      },
      "source": [
        "## Question 2\n",
        "\n",
        "Write a Python Program to Find Factorial of Number Using Recursion?\n",
        "\n",
        "#### Solution"
      ]
    },
    {
      "cell_type": "code",
      "metadata": {
        "id": "pwxQUOmuvIXd",
        "colab": {
          "base_uri": "https://localhost:8080/"
        },
        "outputId": "38bd524a-3bed-44a4-e381-afb9e6eb2ded"
      },
      "source": [
        "def factorial(n):\n",
        "    if n==1:\n",
        "        return 1\n",
        "    \n",
        "    return n*factorial(n-1)\n",
        "\n",
        "n = int(input(\"Enter a whole number\\t\"))\n",
        "print(f\"Factorial of {n} = {factorial(n)}\")\n"
      ],
      "execution_count": 3,
      "outputs": [
        {
          "output_type": "stream",
          "name": "stdout",
          "text": [
            "Enter a whole number\t6\n",
            "Factorial of 6 = 720\n"
          ]
        }
      ]
    },
    {
      "cell_type": "markdown",
      "metadata": {
        "id": "WkqxgP9_vIXe"
      },
      "source": [
        "## Question 3\n",
        "\n",
        "Write a Python Program to calculate your Body Mass Index?\n",
        "\n",
        "#### Solution\n",
        "\n"
      ]
    },
    {
      "cell_type": "code",
      "source": [
        "def bmi(weight, height):\n",
        "    return weight/(height**2)\n",
        "\n",
        "weight = float(input(\"Enter weight in kgs\\t\"))\n",
        "height = float(input(\"Enter height in meters\\t\"))\n",
        "\n",
        "print(f\"BMI Score is {bmi(weight, height)}\")"
      ],
      "metadata": {
        "id": "zzmvMdtxPgvR",
        "colab": {
          "base_uri": "https://localhost:8080/"
        },
        "outputId": "1a601b52-028c-4ba1-aaf5-4c7b49cd97e5"
      },
      "execution_count": 4,
      "outputs": [
        {
          "output_type": "stream",
          "name": "stdout",
          "text": [
            "Enter weight in kgs\t85\n",
            "Enter height in meters\t1.80\n",
            "BMI Score is 26.234567901234566\n"
          ]
        }
      ]
    },
    {
      "cell_type": "markdown",
      "metadata": {
        "id": "zZFmMP44vIXg"
      },
      "source": [
        "## Question 4\n",
        "\n",
        "Write a Python Program to calculate the natural logarithm of any number?\n",
        "\n",
        "#### Solution\n",
        "\n",
        "Natural logarithm : (Base e)"
      ]
    },
    {
      "cell_type": "code",
      "source": [
        "import math\n",
        "\n",
        "print(f\"Natural logarithm of 16 is : {math.log(16)}\")"
      ],
      "metadata": {
        "colab": {
          "base_uri": "https://localhost:8080/"
        },
        "id": "Z4zCHcIVYskI",
        "outputId": "c2fe8d38-d32d-46a8-c11e-2d7c2cba237e"
      },
      "execution_count": 5,
      "outputs": [
        {
          "output_type": "stream",
          "name": "stdout",
          "text": [
            "Natural logarithm of 16 is : 2.772588722239781\n"
          ]
        }
      ]
    },
    {
      "cell_type": "markdown",
      "metadata": {
        "id": "eJoFmhWDvIXi"
      },
      "source": [
        "## Question 5\n",
        "\n",
        "Write a Python Program for cube sum of first n natural numbers?\n",
        "\n",
        "#### Solution\n",
        "\n"
      ]
    },
    {
      "cell_type": "code",
      "metadata": {
        "id": "8m6E0F3rvIXj",
        "colab": {
          "base_uri": "https://localhost:8080/"
        },
        "outputId": "5e946c75-59de-494e-e95b-18ada2e83a93"
      },
      "source": [
        "cube = lambda x : x**3\n",
        "\n",
        "n = int(input(\"Enter your range.\"))\n",
        "for i in range(1, n+1):\n",
        "    print(f\"Cube of {i} : {cube(i)}\")"
      ],
      "execution_count": 6,
      "outputs": [
        {
          "output_type": "stream",
          "name": "stdout",
          "text": [
            "Enter your range.10\n",
            "Cube of 1 : 1\n",
            "Cube of 2 : 8\n",
            "Cube of 3 : 27\n",
            "Cube of 4 : 64\n",
            "Cube of 5 : 125\n",
            "Cube of 6 : 216\n",
            "Cube of 7 : 343\n",
            "Cube of 8 : 512\n",
            "Cube of 9 : 729\n",
            "Cube of 10 : 1000\n"
          ]
        }
      ]
    }
  ]
}